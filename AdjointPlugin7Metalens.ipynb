{
 "cells": [
  {
   "cell_type": "markdown",
   "metadata": {},
   "source": [
    "# Inverse design optimization of a metalens\n",
    "\n",
    "In this notebook, we will use inverse design and the Tidy3D `adjoint` plugin to design a high numerical aperture (NA) metalens for optimal focusing to a point. This demo also introduces how to use the `adjoint` plugin for objective functions that depend on the `FieldMonitor` outputs.\n",
    "\n",
    "We will follow the basic set up from Mansouree et al. \"Large-Scale Parametrized Metasurface Design Using Adjoint Optimization\". The published paper can be found [here](https://pubs.acs.org/doi/abs/10.1021/acsphotonics.0c01058) and the arxiv preprint can be found [here](https://arxiv.org/abs/2101.06292).\n",
    "\n",
    "<img src=\"img/adjoint_7.png\" width=400 alt=\"Schematic of the metalens\">\n"
   ]
  },
  {
   "cell_type": "markdown",
   "metadata": {},
   "source": [
    "<!-- View this project in [Tidy3D Web App](https://tidy3d.simulation.cloud/workbench?taskId=d226dea4-9a65-4481-83d0-7f7d4cbfd388). -->\n",
    "\n",
    "## Setup\n",
    "\n",
    "We first perform basic imports of the packages needed."
   ]
  },
  {
   "cell_type": "code",
   "execution_count": 2,
   "metadata": {
    "execution": {
     "iopub.execute_input": "2023-08-19T03:36:26.506739Z",
     "iopub.status.busy": "2023-08-19T03:36:26.506470Z",
     "iopub.status.idle": "2023-08-19T03:36:28.343725Z",
     "shell.execute_reply": "2023-08-19T03:36:28.343097Z"
    },
    "tags": []
   },
   "outputs": [],
   "source": [
    "# standard python imports\n",
    "import numpy as np\n",
    "from numpy import random\n",
    "import matplotlib.pyplot as plt\n",
    "\n",
    "import tidy3d as td\n",
    "from tidy3d import web\n",
    "\n",
    "import autograd.numpy as anp\n",
    "\n",
    "import tidy3d.plugins.adjoint as tda\n",
    "from tidy3d.plugins.adjoint.web import run as run_adj\n",
    "import jax\n",
    "import jax.numpy as jnp"
   ]
  },
  {
   "cell_type": "markdown",
   "metadata": {},
   "source": [
    "The metalens design consists of a rectangular array of Si rectangular prisms sitting on an SiO2 substrate.\n",
    "\n",
    "Here we define all of the basic parameters of the setup, including the wavelength, NA, geometrical dimensions, and material properties.\n"
   ]
  },
  {
   "cell_type": "code",
   "execution_count": 3,
   "metadata": {
    "execution": {
     "iopub.execute_input": "2023-08-19T03:36:28.346378Z",
     "iopub.status.busy": "2023-08-19T03:36:28.346103Z",
     "iopub.status.idle": "2023-08-19T03:36:28.369227Z",
     "shell.execute_reply": "2023-08-19T03:36:28.368625Z"
    },
    "tags": []
   },
   "outputs": [
    {
     "name": "stdout",
     "output_type": "stream",
     "text": [
      "Configured successfully.\n",
      "for diameter of 6.0 um, have 18 cells per side\n",
      "full metalens has area of 36.0 um^2 and 324 total cells\n"
     ]
    }
   ],
   "source": [
    "web.configure(\"PIh6mRCvFaWJXaEI3bj2GrTK7DHvJsgCOiLZAMzlu5tSHGKD\")\n",
    "# 1 nanometer in units of microns (for conversion)\n",
    "nm = 1e-3\n",
    "\n",
    "# free space central wavelength\n",
    "wavelength = 850 * nm\n",
    "\n",
    "# desired numerical aperture\n",
    "NA = 0.94\n",
    "\n",
    "# shape parameters of metalens unit cell (um) (refer to image above and see paper for details)\n",
    "H = 430 * nm\n",
    "S = 320 * nm\n",
    "\n",
    "# space between bottom PML and substrate (-z)\n",
    "space_below_sub = 1 * wavelength\n",
    "\n",
    "# thickness of substrate between source and Si unit cells\n",
    "thickness_sub = 100 * nm\n",
    "\n",
    "# side length of entire metalens (um)\n",
    "side_length = 6\n",
    "\n",
    "# Number of unit cells in each x and y direction (NxN grid)\n",
    "N = int(side_length / S)\n",
    "\n",
    "print(f\"for diameter of {side_length:.1f} um, have {N} cells per side\")\n",
    "print(f\"full metalens has area of {side_length**2:.1f} um^2 and {N*N} total cells\")\n",
    "\n",
    "# Define material properties at 600 nm\n",
    "n_Si = 3.84\n",
    "n_SiO2 = 1.46\n",
    "air = td.Medium(permittivity=1.0)\n",
    "SiO2 = td.Medium(permittivity=n_SiO2**2)\n",
    "Si = td.Medium(permittivity=n_Si**2)\n",
    "\n",
    "# define symmetry\n",
    "symmetry = (-1, 1, 0)"
   ]
  },
  {
   "cell_type": "markdown",
   "metadata": {},
   "source": [
    "Next, we will compute some important quantities derived from these parameters."
   ]
  },
  {
   "cell_type": "code",
   "execution_count": 4,
   "metadata": {
    "execution": {
     "iopub.execute_input": "2023-08-19T03:36:28.371454Z",
     "iopub.status.busy": "2023-08-19T03:36:28.371257Z",
     "iopub.status.idle": "2023-08-19T03:36:28.396257Z",
     "shell.execute_reply": "2023-08-19T03:36:28.395630Z"
    },
    "tags": []
   },
   "outputs": [],
   "source": [
    "# using the wavelength in microns, one can use td.C_0 (um/s) to get frequency in Hz\n",
    "# wavelength_meters = wavelength * meters\n",
    "f0 = td.C_0 / wavelength\n",
    "\n",
    "# Compute the domain size in x, y (note: round down from side_length)\n",
    "length_xy = N * S\n",
    "\n",
    "# focal length given diameter and numerical aperture\n",
    "focal_length = length_xy / 2 / NA * np.sqrt(1 - NA**2)\n",
    "\n",
    "# total domain size in z: (space -> substrate -> unit cell -> 1.7 focal lengths)\n",
    "length_z = space_below_sub + thickness_sub + H + 1.7 * focal_length\n",
    "\n",
    "# construct simulation size array\n",
    "sim_size = (length_xy, length_xy, length_z)\n"
   ]
  },
  {
   "cell_type": "markdown",
   "metadata": {},
   "source": [
    "## Create Metalens Geometry\n",
    "\n",
    "Now we will define the structures in our simulation. We will first generate the substrate as a regular `td.Box`."
   ]
  },
  {
   "cell_type": "code",
   "execution_count": 5,
   "metadata": {
    "execution": {
     "iopub.execute_input": "2023-08-19T03:36:28.399033Z",
     "iopub.status.busy": "2023-08-19T03:36:28.398796Z",
     "iopub.status.idle": "2023-08-19T03:36:28.426601Z",
     "shell.execute_reply": "2023-08-19T03:36:28.425142Z"
    },
    "tags": []
   },
   "outputs": [],
   "source": [
    "# define substrate\n",
    "substrate = td.Structure(\n",
    "    geometry=td.Box.from_bounds(\n",
    "        rmin=(-td.inf, -td.inf, -1000),\n",
    "        rmax=(+td.inf, +td.inf, -length_z / 2 + space_below_sub + thickness_sub)\n",
    "    ),\n",
    "    medium=SiO2,\n",
    ")"
   ]
  },
  {
   "cell_type": "markdown",
   "metadata": {},
   "source": [
    "Next, we will write a function to make a list of `JaxStructure` objects corresponding to each unit cell.\n",
    "\n",
    "> Note that the adjoint plugin does not yet support `GeometryGroup` for `JaxBox`, so we will keep them as individual `JaxStructure` objects for now."
   ]
  },
  {
   "cell_type": "code",
   "execution_count": 6,
   "metadata": {
    "execution": {
     "iopub.execute_input": "2023-08-19T03:36:28.429393Z",
     "iopub.status.busy": "2023-08-19T03:36:28.429213Z",
     "iopub.status.idle": "2023-08-19T03:36:28.792709Z",
     "shell.execute_reply": "2023-08-19T03:36:28.791587Z"
    },
    "tags": []
   },
   "outputs": [],
   "source": [
    "# define coordinates of each unit cell\n",
    "centers_x = S * np.arange(N) - length_xy / 2.0 + S / 2.0\n",
    "centers_y = S * np.arange(N) - length_xy / 2.0 + S / 2.0\n",
    "center_z = -length_z / 2 + space_below_sub + thickness_sub + H / 2.0\n",
    "\n",
    "focal_z = center_z + H / 2 + focal_length\n",
    "\n",
    "\n",
    "x_centers, y_centers = np.meshgrid(centers_x, centers_y, indexing=\"ij\")\n",
    "xs = x_centers.flatten()\n",
    "ys = y_centers.flatten()\n",
    "\n",
    "def get_sizes(params):\n",
    "    \"\"\"Returns the actual side lengths of the boxes as a function of design parameters from (-inf, +inf).\"\"\"\n",
    "    return S * (jnp.tanh(params) + 1.0) / 2.0\n",
    "\n",
    "# initially, start with parameters of 0 (all boxes have side length S/2)\n",
    "params0 = 0 * np.ones(x_centers.shape)\n",
    "\n",
    "def make_structures(params, apply_symmetry: bool = True):\n",
    "    \"\"\"Make the JaxStructure objects that will be used as .input_structures.\"\"\"\n",
    "    \n",
    "    sizes = get_sizes(params)\n",
    "    nx, ny = sizes.shape\n",
    "    geometries = []\n",
    "    \n",
    "    for i in range(nx):\n",
    "        i_quad = max(i, nx - 1 - i)\n",
    "        for j in range(ny):\n",
    "            j_quad = max(j, ny - 1 - j)\n",
    "            size = sizes[i_quad, j_quad]\n",
    "            x0 = x_centers[i, j]\n",
    "            y0 = y_centers[i, j]\n",
    "\n",
    "            if apply_symmetry and symmetry[0] != 0 and x0 < -S/2:\n",
    "                continue\n",
    "\n",
    "            if apply_symmetry and symmetry[1] != 0 and y0 < -S/2:\n",
    "                continue        \n",
    "\n",
    "            geometry = tda.JaxBox(\n",
    "                center=(x0, y0, center_z),\n",
    "                size=(size, size, H)\n",
    "            )\n",
    "        \n",
    "            geometries.append(geometry)\n",
    "    medium = tda.JaxMedium(permittivity=n_Si**2)\n",
    "    return [tda.JaxStructure(medium=medium, geometry=geo) for geo in geometries]\n",
    "\n",
    "structures = make_structures(params0)"
   ]
  },
  {
   "cell_type": "markdown",
   "metadata": {},
   "source": [
    "## Define grid specification\n",
    "\n",
    "We define the grid based on the properties of the geometry. The metalens is quasi-periodic in x and y, in that we have clearly defined unit cells, but each is slightly modified from its neighbors. Such structures are best resolved with a grid that matches the periodicity, which is why we use a uniform grid in x and y. In z, we use the automatic nonuniform grid that will place a higher grid density around the metalens region, and a lower one in the air region away from the metalens. To speed up the auto meshing in the region with the pillars, we put an override box in the grid specification."
   ]
  },
  {
   "cell_type": "code",
   "execution_count": 7,
   "metadata": {
    "execution": {
     "iopub.execute_input": "2023-08-19T03:36:28.795984Z",
     "iopub.status.busy": "2023-08-19T03:36:28.795510Z",
     "iopub.status.idle": "2023-08-19T03:36:28.828796Z",
     "shell.execute_reply": "2023-08-19T03:36:28.828262Z"
    },
    "tags": []
   },
   "outputs": [
    {
     "name": "stdout",
     "output_type": "stream",
     "text": [
      "5.76\n"
     ]
    }
   ],
   "source": [
    "# steps per unit cell along x and y\n",
    "grids_per_unit_length = 10\n",
    "\n",
    "# uniform mesh in x and y\n",
    "grid_x = td.UniformGrid(dl=S / grids_per_unit_length)\n",
    "grid_y = td.UniformGrid(dl=S / grids_per_unit_length)\n",
    "\n",
    "# in z, use an automatic nonuniform mesh with the wavelength being the \"unit length\"\n",
    "grid_z = td.AutoGrid(min_steps_per_wvl=grids_per_unit_length)\n",
    "\n",
    "# we need to supply the wavelength because of the automatic mesh in z\n",
    "grid_spec = td.GridSpec(\n",
    "    wavelength=wavelength, grid_x=grid_x, grid_y=grid_y, grid_z=grid_z\n",
    ")\n",
    "\n",
    "# put an override box over the pillars to avoid parsing a large amount of structures in the mesher\n",
    "grid_spec = grid_spec.copy(\n",
    "    update=dict(\n",
    "        override_structures=[\n",
    "            td.Structure(\n",
    "                geometry=td.Box.from_bounds(\n",
    "                    rmin=(-td.inf, -td.inf, -length_z / 2 + space_below_sub),\n",
    "                    rmax=(td.inf, td.inf, center_z + H / 2),\n",
    "                ),\n",
    "                medium=Si,\n",
    "            )\n",
    "        ]\n",
    "    )\n",
    ")\n",
    "print(N * S)"
   ]
  },
  {
   "cell_type": "markdown",
   "metadata": {},
   "source": [
    "## Define Source\n",
    "\n",
    "Now we define the incident fields.  We simply use an x-polarized, normally incident plane wave with Gaussian time dependence centered at our central frequency.  For more details, see the [plane wave source documentation](https://docs.flexcompute.com/projects/tidy3d/en/latest/api/_autosummary/tidy3d.PlaneWave.html#tidy3d-planewave) and the [gaussian source documentation](https://docs.flexcompute.com/projects/tidy3d/en/latest/api/_autosummary/tidy3d.GaussianPulse.html#tidy3d-gaussianpulse)"
   ]
  },
  {
   "cell_type": "code",
   "execution_count": 8,
   "metadata": {
    "execution": {
     "iopub.execute_input": "2023-08-19T03:36:28.831433Z",
     "iopub.status.busy": "2023-08-19T03:36:28.831223Z",
     "iopub.status.idle": "2023-08-19T03:36:28.857655Z",
     "shell.execute_reply": "2023-08-19T03:36:28.856805Z"
    },
    "tags": []
   },
   "outputs": [],
   "source": [
    "# Bandwidth in Hz\n",
    "fwidth = f0 / 10.0\n",
    "\n",
    "# time dependence of source\n",
    "gaussian = td.GaussianPulse(freq0=f0, fwidth=fwidth, phase=0)\n",
    "\n",
    "source = td.PlaneWave(\n",
    "    source_time=gaussian,\n",
    "    size=(td.inf, td.inf, 0),\n",
    "    center=(0, 0, -length_z / 2 + space_below_sub / 10.0),\n",
    "    direction=\"+\",\n",
    "    pol_angle=0,\n",
    ")\n",
    "\n",
    "run_time = 50 / fwidth\n"
   ]
  },
  {
   "cell_type": "markdown",
   "metadata": {},
   "source": [
    "## Define Monitors\n",
    "\n",
    "Now we define the monitor that measures field output from the FDTD simulation.  For simplicity, we use measure the fields at the central frequency at the focal spot.\n",
    "\n",
    "This will be the monitor that we use in our objective function, so it will go into `JaxSimulation.output_monitors`."
   ]
  },
  {
   "cell_type": "code",
   "execution_count": 9,
   "metadata": {
    "execution": {
     "iopub.execute_input": "2023-08-19T03:36:28.862048Z",
     "iopub.status.busy": "2023-08-19T03:36:28.861617Z",
     "iopub.status.idle": "2023-08-19T03:36:29.103638Z",
     "shell.execute_reply": "2023-08-19T03:36:29.103119Z"
    }
   },
   "outputs": [],
   "source": [
    "# To decrease the amount of data stored, only store the E fields\n",
    "fields = [\"Ex\", \"Ey\", \"Ez\"]\n",
    "\n",
    "monitor_1 = td.FieldMonitor(\n",
    "    center=[-2.5, 0.0, focal_z],\n",
    "    size=[0.25, 0.25, 0],\n",
    "    freqs=[f0],\n",
    "    name=\"classifier1\",\n",
    "    fields=fields,\n",
    "    colocate=False,\n",
    ")\n",
    "\n",
    "monitor_2 = td.FieldMonitor(\n",
    "    center=[0.0, 0.0, focal_z],\n",
    "    size=[0.25, 0.25, 0],\n",
    "    freqs=[f0],\n",
    "    name=\"classifier2\",\n",
    "    fields=fields,\n",
    "    colocate=False,\n",
    ")\n",
    "\n",
    "monitor_3 = td.FieldMonitor(\n",
    "    center=[2.5, 0.0, focal_z],\n",
    "    size=[0.25, 0.25, 0],\n",
    "    freqs=[f0],\n",
    "    name=\"classifier3\",\n",
    "    fields=fields,\n",
    "    colocate=False,\n",
    ")\n",
    "\n",
    "monitor_full = td.FieldMonitor(\n",
    "    center=[0.0, 0.0, focal_z],\n",
    "    size=[0.25, 0.25, 0],\n",
    "    freqs=[f0],\n",
    "    name=\"total_intensity\",\n",
    "    fields=fields,\n",
    "    colocate=False\n",
    ")"
   ]
  },
  {
   "cell_type": "markdown",
   "metadata": {},
   "source": [
    "## Create Simulation\n",
    "\n",
    "Now we can put everything together and define a [JaxSimulation](https://docs.flexcompute.com/projects/tidy3d/en/latest/api/_autosummary/tidy3d.plugins.adjoint.JaxSimulation.html) object to be run.\n",
    "\n"
   ]
  },
  {
   "cell_type": "markdown",
   "metadata": {},
   "source": [
    "We get a number of warnings about structures being too close to the PML. In FDTD simulations, this can result in instability, as PML are absorbing for propagating fields, but can be amplifying for evanescent fields. This particular simulation runs without any issues even with PML on the sides, but it is best to heed these warnings to avoid problems. There are two ways that we can fix the simulation: one is to just put some space between the last of the metalens boxes and the PML. The other is to use adiabatic absorbers on the sides, which are always stable. The only downside of the absorbers is that they are slightly thicker than the PML, making the overall simulation size slightly larger. This is why we only put them along x and y, while we leave the PML in z.\n",
    "\n",
    "> Note: we add symmetry of (-1, 1, 0) to speed up the simulation by approximately 4x taking into account the symmetry in our source and dielectric function."
   ]
  },
  {
   "cell_type": "code",
   "execution_count": 12,
   "metadata": {
    "execution": {
     "iopub.execute_input": "2023-08-19T03:36:29.106084Z",
     "iopub.status.busy": "2023-08-19T03:36:29.105876Z",
     "iopub.status.idle": "2023-08-19T03:36:29.715014Z",
     "shell.execute_reply": "2023-08-19T03:36:29.714183Z"
    },
    "tags": []
   },
   "outputs": [
    {
     "data": {
      "text/html": [
       "<pre style=\"white-space:pre;overflow-x:auto;line-height:normal;font-family:Menlo,'DejaVu Sans Mono',consolas,'Courier New',monospace\"><span style=\"color: #7fbfbf; text-decoration-color: #7fbfbf\">15:29:29 CST </span><span style=\"color: #800000; text-decoration-color: #800000\">WARNING: Override structures take no effect along x-axis. If       </span>\n",
       "<span style=\"color: #7fbfbf; text-decoration-color: #7fbfbf\">             </span><span style=\"color: #800000; text-decoration-color: #800000\">intending to apply override structures to this axis, use           </span>\n",
       "<span style=\"color: #7fbfbf; text-decoration-color: #7fbfbf\">             </span><span style=\"color: #008000; text-decoration-color: #008000\">'AutoGrid'</span><span style=\"color: #800000; text-decoration-color: #800000\">.                                                        </span>\n",
       "</pre>\n"
      ],
      "text/plain": [
       "\u001b[2;36m15:29:29 CST\u001b[0m\u001b[2;36m \u001b[0m\u001b[31mWARNING: Override structures take no effect along x-axis. If       \u001b[0m\n",
       "\u001b[2;36m             \u001b[0m\u001b[31mintending to apply override structures to this axis, use           \u001b[0m\n",
       "\u001b[2;36m             \u001b[0m\u001b[32m'AutoGrid'\u001b[0m\u001b[31m.                                                        \u001b[0m\n"
      ]
     },
     "metadata": {},
     "output_type": "display_data"
    },
    {
     "data": {
      "text/html": [
       "<pre style=\"white-space:pre;overflow-x:auto;line-height:normal;font-family:Menlo,'DejaVu Sans Mono',consolas,'Courier New',monospace\"><span style=\"color: #7fbfbf; text-decoration-color: #7fbfbf\">             </span><span style=\"color: #800000; text-decoration-color: #800000\">WARNING: Override structures take no effect along y-axis. If       </span>\n",
       "<span style=\"color: #7fbfbf; text-decoration-color: #7fbfbf\">             </span><span style=\"color: #800000; text-decoration-color: #800000\">intending to apply override structures to this axis, use           </span>\n",
       "<span style=\"color: #7fbfbf; text-decoration-color: #7fbfbf\">             </span><span style=\"color: #008000; text-decoration-color: #008000\">'AutoGrid'</span><span style=\"color: #800000; text-decoration-color: #800000\">.                                                        </span>\n",
       "</pre>\n"
      ],
      "text/plain": [
       "\u001b[2;36m            \u001b[0m\u001b[2;36m \u001b[0m\u001b[31mWARNING: Override structures take no effect along y-axis. If       \u001b[0m\n",
       "\u001b[2;36m             \u001b[0m\u001b[31mintending to apply override structures to this axis, use           \u001b[0m\n",
       "\u001b[2;36m             \u001b[0m\u001b[32m'AutoGrid'\u001b[0m\u001b[31m.                                                        \u001b[0m\n"
      ]
     },
     "metadata": {},
     "output_type": "display_data"
    }
   ],
   "source": [
    "def make_sim(angles, apply_symmetry: bool=True):\n",
    "    metalens = make_structures(angles, apply_symmetry=apply_symmetry)\n",
    "    sim = tda.JaxSimulation(\n",
    "        size=sim_size,\n",
    "        grid_spec=grid_spec,\n",
    "        structures=[substrate],\n",
    "        input_structures=metalens,\n",
    "        sources=[source],\n",
    "        monitors=[],\n",
    "        output_monitors=[monitor_1\n",
    "                         ,monitor_2,\n",
    "                         monitor_3, \n",
    "                         monitor_full],\n",
    "        run_time=run_time,\n",
    "        boundary_spec=td.BoundarySpec(\n",
    "            x=td.Boundary.absorber(), y=td.Boundary.absorber(), z=td.Boundary.pml()\n",
    "        ),\n",
    "        symmetry=symmetry,\n",
    "    )\n",
    "    return sim\n",
    "\n",
    "sim = make_sim(params0)"
   ]
  },
  {
   "cell_type": "markdown",
   "metadata": {},
   "source": [
    "The warnings are just letting us know that we are using uniform grid along x and y (per our spec) even though the override structures have some extent in these dimensions. We can ignore as this is intended."
   ]
  },
  {
   "cell_type": "markdown",
   "metadata": {},
   "source": [
    "## Visualize Geometry\n",
    "\n",
    "Lets take a look and make sure everything is defined properly.\n"
   ]
  },
  {
   "cell_type": "code",
   "execution_count": 13,
   "metadata": {
    "tags": []
   },
   "outputs": [
    {
     "data": {
      "text/html": [
       "<pre style=\"white-space:pre;overflow-x:auto;line-height:normal;font-family:Menlo,'DejaVu Sans Mono',consolas,'Courier New',monospace\"><span style=\"color: #7fbfbf; text-decoration-color: #7fbfbf\">15:29:33 CST </span><span style=\"color: #800000; text-decoration-color: #800000\">WARNING: Override structures take no effect along x-axis. If       </span>\n",
       "<span style=\"color: #7fbfbf; text-decoration-color: #7fbfbf\">             </span><span style=\"color: #800000; text-decoration-color: #800000\">intending to apply override structures to this axis, use           </span>\n",
       "<span style=\"color: #7fbfbf; text-decoration-color: #7fbfbf\">             </span><span style=\"color: #008000; text-decoration-color: #008000\">'AutoGrid'</span><span style=\"color: #800000; text-decoration-color: #800000\">.                                                        </span>\n",
       "</pre>\n"
      ],
      "text/plain": [
       "\u001b[2;36m15:29:33 CST\u001b[0m\u001b[2;36m \u001b[0m\u001b[31mWARNING: Override structures take no effect along x-axis. If       \u001b[0m\n",
       "\u001b[2;36m             \u001b[0m\u001b[31mintending to apply override structures to this axis, use           \u001b[0m\n",
       "\u001b[2;36m             \u001b[0m\u001b[32m'AutoGrid'\u001b[0m\u001b[31m.                                                        \u001b[0m\n"
      ]
     },
     "metadata": {},
     "output_type": "display_data"
    },
    {
     "data": {
      "text/html": [
       "<pre style=\"white-space:pre;overflow-x:auto;line-height:normal;font-family:Menlo,'DejaVu Sans Mono',consolas,'Courier New',monospace\"><span style=\"color: #7fbfbf; text-decoration-color: #7fbfbf\">             </span><span style=\"color: #800000; text-decoration-color: #800000\">WARNING: Override structures take no effect along y-axis. If       </span>\n",
       "<span style=\"color: #7fbfbf; text-decoration-color: #7fbfbf\">             </span><span style=\"color: #800000; text-decoration-color: #800000\">intending to apply override structures to this axis, use           </span>\n",
       "<span style=\"color: #7fbfbf; text-decoration-color: #7fbfbf\">             </span><span style=\"color: #008000; text-decoration-color: #008000\">'AutoGrid'</span><span style=\"color: #800000; text-decoration-color: #800000\">.                                                        </span>\n",
       "</pre>\n"
      ],
      "text/plain": [
       "\u001b[2;36m            \u001b[0m\u001b[2;36m \u001b[0m\u001b[31mWARNING: Override structures take no effect along y-axis. If       \u001b[0m\n",
       "\u001b[2;36m             \u001b[0m\u001b[31mintending to apply override structures to this axis, use           \u001b[0m\n",
       "\u001b[2;36m             \u001b[0m\u001b[32m'AutoGrid'\u001b[0m\u001b[31m.                                                        \u001b[0m\n"
      ]
     },
     "metadata": {},
     "output_type": "display_data"
    },
    {
     "data": {
      "text/html": [
       "<pre style=\"white-space:pre;overflow-x:auto;line-height:normal;font-family:Menlo,'DejaVu Sans Mono',consolas,'Courier New',monospace\"><span style=\"color: #7fbfbf; text-decoration-color: #7fbfbf\">             </span><span style=\"color: #800000; text-decoration-color: #800000\">WARNING: Override structures take no effect along x-axis. If       </span>\n",
       "<span style=\"color: #7fbfbf; text-decoration-color: #7fbfbf\">             </span><span style=\"color: #800000; text-decoration-color: #800000\">intending to apply override structures to this axis, use           </span>\n",
       "<span style=\"color: #7fbfbf; text-decoration-color: #7fbfbf\">             </span><span style=\"color: #008000; text-decoration-color: #008000\">'AutoGrid'</span><span style=\"color: #800000; text-decoration-color: #800000\">.                                                        </span>\n",
       "</pre>\n"
      ],
      "text/plain": [
       "\u001b[2;36m            \u001b[0m\u001b[2;36m \u001b[0m\u001b[31mWARNING: Override structures take no effect along x-axis. If       \u001b[0m\n",
       "\u001b[2;36m             \u001b[0m\u001b[31mintending to apply override structures to this axis, use           \u001b[0m\n",
       "\u001b[2;36m             \u001b[0m\u001b[32m'AutoGrid'\u001b[0m\u001b[31m.                                                        \u001b[0m\n"
      ]
     },
     "metadata": {},
     "output_type": "display_data"
    },
    {
     "data": {
      "text/html": [
       "<pre style=\"white-space:pre;overflow-x:auto;line-height:normal;font-family:Menlo,'DejaVu Sans Mono',consolas,'Courier New',monospace\"><span style=\"color: #7fbfbf; text-decoration-color: #7fbfbf\">             </span><span style=\"color: #800000; text-decoration-color: #800000\">WARNING: Override structures take no effect along y-axis. If       </span>\n",
       "<span style=\"color: #7fbfbf; text-decoration-color: #7fbfbf\">             </span><span style=\"color: #800000; text-decoration-color: #800000\">intending to apply override structures to this axis, use           </span>\n",
       "<span style=\"color: #7fbfbf; text-decoration-color: #7fbfbf\">             </span><span style=\"color: #008000; text-decoration-color: #008000\">'AutoGrid'</span><span style=\"color: #800000; text-decoration-color: #800000\">.                                                        </span>\n",
       "</pre>\n"
      ],
      "text/plain": [
       "\u001b[2;36m            \u001b[0m\u001b[2;36m \u001b[0m\u001b[31mWARNING: Override structures take no effect along y-axis. If       \u001b[0m\n",
       "\u001b[2;36m             \u001b[0m\u001b[31mintending to apply override structures to this axis, use           \u001b[0m\n",
       "\u001b[2;36m             \u001b[0m\u001b[32m'AutoGrid'\u001b[0m\u001b[31m.                                                        \u001b[0m\n"
      ]
     },
     "metadata": {},
     "output_type": "display_data"
    },
    {
     "data": {
      "text/html": [
       "<pre style=\"white-space:pre;overflow-x:auto;line-height:normal;font-family:Menlo,'DejaVu Sans Mono',consolas,'Courier New',monospace\"><span style=\"color: #7fbfbf; text-decoration-color: #7fbfbf\">             </span><span style=\"color: #800000; text-decoration-color: #800000\">WARNING: Override structures take no effect along x-axis. If       </span>\n",
       "<span style=\"color: #7fbfbf; text-decoration-color: #7fbfbf\">             </span><span style=\"color: #800000; text-decoration-color: #800000\">intending to apply override structures to this axis, use           </span>\n",
       "<span style=\"color: #7fbfbf; text-decoration-color: #7fbfbf\">             </span><span style=\"color: #008000; text-decoration-color: #008000\">'AutoGrid'</span><span style=\"color: #800000; text-decoration-color: #800000\">.                                                        </span>\n",
       "</pre>\n"
      ],
      "text/plain": [
       "\u001b[2;36m            \u001b[0m\u001b[2;36m \u001b[0m\u001b[31mWARNING: Override structures take no effect along x-axis. If       \u001b[0m\n",
       "\u001b[2;36m             \u001b[0m\u001b[31mintending to apply override structures to this axis, use           \u001b[0m\n",
       "\u001b[2;36m             \u001b[0m\u001b[32m'AutoGrid'\u001b[0m\u001b[31m.                                                        \u001b[0m\n"
      ]
     },
     "metadata": {},
     "output_type": "display_data"
    },
    {
     "data": {
      "text/html": [
       "<pre style=\"white-space:pre;overflow-x:auto;line-height:normal;font-family:Menlo,'DejaVu Sans Mono',consolas,'Courier New',monospace\"><span style=\"color: #7fbfbf; text-decoration-color: #7fbfbf\">             </span><span style=\"color: #800000; text-decoration-color: #800000\">WARNING: Override structures take no effect along y-axis. If       </span>\n",
       "<span style=\"color: #7fbfbf; text-decoration-color: #7fbfbf\">             </span><span style=\"color: #800000; text-decoration-color: #800000\">intending to apply override structures to this axis, use           </span>\n",
       "<span style=\"color: #7fbfbf; text-decoration-color: #7fbfbf\">             </span><span style=\"color: #008000; text-decoration-color: #008000\">'AutoGrid'</span><span style=\"color: #800000; text-decoration-color: #800000\">.                                                        </span>\n",
       "</pre>\n"
      ],
      "text/plain": [
       "\u001b[2;36m            \u001b[0m\u001b[2;36m \u001b[0m\u001b[31mWARNING: Override structures take no effect along y-axis. If       \u001b[0m\n",
       "\u001b[2;36m             \u001b[0m\u001b[31mintending to apply override structures to this axis, use           \u001b[0m\n",
       "\u001b[2;36m             \u001b[0m\u001b[32m'AutoGrid'\u001b[0m\u001b[31m.                                                        \u001b[0m\n"
      ]
     },
     "metadata": {},
     "output_type": "display_data"
    },
    {
     "data": {
      "text/html": [
       "<pre style=\"white-space:pre;overflow-x:auto;line-height:normal;font-family:Menlo,'DejaVu Sans Mono',consolas,'Courier New',monospace\"><span style=\"color: #7fbfbf; text-decoration-color: #7fbfbf\">             </span><span style=\"color: #800000; text-decoration-color: #800000\">WARNING: Override structures take no effect along x-axis. If       </span>\n",
       "<span style=\"color: #7fbfbf; text-decoration-color: #7fbfbf\">             </span><span style=\"color: #800000; text-decoration-color: #800000\">intending to apply override structures to this axis, use           </span>\n",
       "<span style=\"color: #7fbfbf; text-decoration-color: #7fbfbf\">             </span><span style=\"color: #008000; text-decoration-color: #008000\">'AutoGrid'</span><span style=\"color: #800000; text-decoration-color: #800000\">.                                                        </span>\n",
       "</pre>\n"
      ],
      "text/plain": [
       "\u001b[2;36m            \u001b[0m\u001b[2;36m \u001b[0m\u001b[31mWARNING: Override structures take no effect along x-axis. If       \u001b[0m\n",
       "\u001b[2;36m             \u001b[0m\u001b[31mintending to apply override structures to this axis, use           \u001b[0m\n",
       "\u001b[2;36m             \u001b[0m\u001b[32m'AutoGrid'\u001b[0m\u001b[31m.                                                        \u001b[0m\n"
      ]
     },
     "metadata": {},
     "output_type": "display_data"
    },
    {
     "data": {
      "text/html": [
       "<pre style=\"white-space:pre;overflow-x:auto;line-height:normal;font-family:Menlo,'DejaVu Sans Mono',consolas,'Courier New',monospace\"><span style=\"color: #7fbfbf; text-decoration-color: #7fbfbf\">             </span><span style=\"color: #800000; text-decoration-color: #800000\">WARNING: Override structures take no effect along y-axis. If       </span>\n",
       "<span style=\"color: #7fbfbf; text-decoration-color: #7fbfbf\">             </span><span style=\"color: #800000; text-decoration-color: #800000\">intending to apply override structures to this axis, use           </span>\n",
       "<span style=\"color: #7fbfbf; text-decoration-color: #7fbfbf\">             </span><span style=\"color: #008000; text-decoration-color: #008000\">'AutoGrid'</span><span style=\"color: #800000; text-decoration-color: #800000\">.                                                        </span>\n",
       "</pre>\n"
      ],
      "text/plain": [
       "\u001b[2;36m            \u001b[0m\u001b[2;36m \u001b[0m\u001b[31mWARNING: Override structures take no effect along y-axis. If       \u001b[0m\n",
       "\u001b[2;36m             \u001b[0m\u001b[31mintending to apply override structures to this axis, use           \u001b[0m\n",
       "\u001b[2;36m             \u001b[0m\u001b[32m'AutoGrid'\u001b[0m\u001b[31m.                                                        \u001b[0m\n"
      ]
     },
     "metadata": {},
     "output_type": "display_data"
    },
    {
     "data": {
      "text/html": [
       "<pre style=\"white-space:pre;overflow-x:auto;line-height:normal;font-family:Menlo,'DejaVu Sans Mono',consolas,'Courier New',monospace\"><span style=\"color: #7fbfbf; text-decoration-color: #7fbfbf\">             </span><span style=\"color: #800000; text-decoration-color: #800000\">WARNING: Override structures take no effect along x-axis. If       </span>\n",
       "<span style=\"color: #7fbfbf; text-decoration-color: #7fbfbf\">             </span><span style=\"color: #800000; text-decoration-color: #800000\">intending to apply override structures to this axis, use           </span>\n",
       "<span style=\"color: #7fbfbf; text-decoration-color: #7fbfbf\">             </span><span style=\"color: #008000; text-decoration-color: #008000\">'AutoGrid'</span><span style=\"color: #800000; text-decoration-color: #800000\">.                                                        </span>\n",
       "</pre>\n"
      ],
      "text/plain": [
       "\u001b[2;36m            \u001b[0m\u001b[2;36m \u001b[0m\u001b[31mWARNING: Override structures take no effect along x-axis. If       \u001b[0m\n",
       "\u001b[2;36m             \u001b[0m\u001b[31mintending to apply override structures to this axis, use           \u001b[0m\n",
       "\u001b[2;36m             \u001b[0m\u001b[32m'AutoGrid'\u001b[0m\u001b[31m.                                                        \u001b[0m\n"
      ]
     },
     "metadata": {},
     "output_type": "display_data"
    },
    {
     "data": {
      "text/html": [
       "<pre style=\"white-space:pre;overflow-x:auto;line-height:normal;font-family:Menlo,'DejaVu Sans Mono',consolas,'Courier New',monospace\"><span style=\"color: #7fbfbf; text-decoration-color: #7fbfbf\">             </span><span style=\"color: #800000; text-decoration-color: #800000\">WARNING: Override structures take no effect along y-axis. If       </span>\n",
       "<span style=\"color: #7fbfbf; text-decoration-color: #7fbfbf\">             </span><span style=\"color: #800000; text-decoration-color: #800000\">intending to apply override structures to this axis, use           </span>\n",
       "<span style=\"color: #7fbfbf; text-decoration-color: #7fbfbf\">             </span><span style=\"color: #008000; text-decoration-color: #008000\">'AutoGrid'</span><span style=\"color: #800000; text-decoration-color: #800000\">.                                                        </span>\n",
       "</pre>\n"
      ],
      "text/plain": [
       "\u001b[2;36m            \u001b[0m\u001b[2;36m \u001b[0m\u001b[31mWARNING: Override structures take no effect along y-axis. If       \u001b[0m\n",
       "\u001b[2;36m             \u001b[0m\u001b[31mintending to apply override structures to this axis, use           \u001b[0m\n",
       "\u001b[2;36m             \u001b[0m\u001b[32m'AutoGrid'\u001b[0m\u001b[31m.                                                        \u001b[0m\n"
      ]
     },
     "metadata": {},
     "output_type": "display_data"
    },
    {
     "data": {
      "text/html": [
       "<pre style=\"white-space:pre;overflow-x:auto;line-height:normal;font-family:Menlo,'DejaVu Sans Mono',consolas,'Courier New',monospace\"><span style=\"color: #7fbfbf; text-decoration-color: #7fbfbf\">             </span><span style=\"color: #800000; text-decoration-color: #800000\">WARNING: Override structures take no effect along x-axis. If       </span>\n",
       "<span style=\"color: #7fbfbf; text-decoration-color: #7fbfbf\">             </span><span style=\"color: #800000; text-decoration-color: #800000\">intending to apply override structures to this axis, use           </span>\n",
       "<span style=\"color: #7fbfbf; text-decoration-color: #7fbfbf\">             </span><span style=\"color: #008000; text-decoration-color: #008000\">'AutoGrid'</span><span style=\"color: #800000; text-decoration-color: #800000\">.                                                        </span>\n",
       "</pre>\n"
      ],
      "text/plain": [
       "\u001b[2;36m            \u001b[0m\u001b[2;36m \u001b[0m\u001b[31mWARNING: Override structures take no effect along x-axis. If       \u001b[0m\n",
       "\u001b[2;36m             \u001b[0m\u001b[31mintending to apply override structures to this axis, use           \u001b[0m\n",
       "\u001b[2;36m             \u001b[0m\u001b[32m'AutoGrid'\u001b[0m\u001b[31m.                                                        \u001b[0m\n"
      ]
     },
     "metadata": {},
     "output_type": "display_data"
    },
    {
     "data": {
      "text/html": [
       "<pre style=\"white-space:pre;overflow-x:auto;line-height:normal;font-family:Menlo,'DejaVu Sans Mono',consolas,'Courier New',monospace\"><span style=\"color: #7fbfbf; text-decoration-color: #7fbfbf\">             </span><span style=\"color: #800000; text-decoration-color: #800000\">WARNING: Override structures take no effect along y-axis. If       </span>\n",
       "<span style=\"color: #7fbfbf; text-decoration-color: #7fbfbf\">             </span><span style=\"color: #800000; text-decoration-color: #800000\">intending to apply override structures to this axis, use           </span>\n",
       "<span style=\"color: #7fbfbf; text-decoration-color: #7fbfbf\">             </span><span style=\"color: #008000; text-decoration-color: #008000\">'AutoGrid'</span><span style=\"color: #800000; text-decoration-color: #800000\">.                                                        </span>\n",
       "</pre>\n"
      ],
      "text/plain": [
       "\u001b[2;36m            \u001b[0m\u001b[2;36m \u001b[0m\u001b[31mWARNING: Override structures take no effect along y-axis. If       \u001b[0m\n",
       "\u001b[2;36m             \u001b[0m\u001b[31mintending to apply override structures to this axis, use           \u001b[0m\n",
       "\u001b[2;36m             \u001b[0m\u001b[32m'AutoGrid'\u001b[0m\u001b[31m.                                                        \u001b[0m\n"
      ]
     },
     "metadata": {},
     "output_type": "display_data"
    },
    {
     "data": {
      "image/png": "[encoded data removed]",
      "text/plain": [
       "<Figure size 1400x600 with 3 Axes>"
      ]
     },
     "metadata": {},
     "output_type": "display_data"
    }
   ],
   "source": [
    "fig, (ax1, ax2, ax3) = plt.subplots(1, 3, figsize=(14, 6))\n",
    "\n",
    "sim.plot(x=0.1, ax=ax1)\n",
    "sim.plot(y=0.1, ax=ax2)\n",
    "sim.plot(z=-length_z / 2 + space_below_sub + thickness_sub + H / 2, ax=ax3)\n",
    "plt.show()\n"
   ]
  },
  {
   "cell_type": "markdown",
   "metadata": {},
   "source": [
    "## Objective Function\n",
    "\n",
    "Now that our simulation is set up, we can define our objective function over the `JaxSimulationData` results.\n",
    "\n",
    "We first write a function to take a `JaxSimulationData` object and return the intensity at the focal point.\n",
    "\n",
    "Next, we write a function to \n",
    "\n",
    "1. Set up our simulation given our design parameters.\n",
    "\n",
    "2. Run the simulation through the adjoint `run` function.\n",
    "\n",
    "3. Compute and return the intensity at the focal point.\n"
   ]
  },
  {
   "cell_type": "code",
   "execution_count": null,
   "metadata": {},
   "outputs": [],
   "source": [
    "# turn off warnings as we understand they are just about AutoGrid and can be ignored in our case\n",
    "td.config.logging_level = \"ERROR\"\n",
    "\n",
    "def measure_focal_intensity(sim_data: tda.JaxSimulationData) -> float:\n",
    "    \"\"\"Measures electric intensity at focal point.\"\"\"\n",
    "    sim_data.get_intensity\n",
    "    intensity1 = sim_data.get_intensity(\"classifier1\").values\n",
    "    intensity2 = sim_data.get_intensity(\"classifier2\").values\n",
    "    intensity3 = sim_data.get_intensity(\"classifier3\").values\n",
    "    total_intensity = anp.sum(sim_data.get_intensity(\"total_intensity\").values)\n",
    "    lambda_ = 20\n",
    "    total_intensity1 = anp.sum(intensity1)\n",
    "    m1 = total_intensity1\n",
    "    total_intensity2 = anp.sum(intensity2)\n",
    "    m2 = total_intensity2\n",
    "    total_intensity3 = anp.sum(intensity3)\n",
    "    m3 = total_intensity3\n",
    "\n",
    "    ratio_1 = 1/4\n",
    "    ratio_2 = 1/2\n",
    "    ratio_3 = 1/4\n",
    "\n",
    "    r1 = 10 * (m1/total_intensity)/ratio_1\n",
    "    r2 = 10 * (m2/total_intensity)/ratio_2\n",
    "    r3 = 10 * (m3/total_intensity)/ratio_3\n",
    "    r4 = (m1 + m2 + m3) - total_intensity\n",
    "    \n",
    "    #r1 = m1\n",
    "    #r2 = m2 /2\n",
    "    #r3 = m3\n",
    "    #ratio_penalty = (r1 / r2 - 1) ** 2 + (r2 / r3 - 1) ** 2\n",
    "    # r1 = ((m1/total_intensity) - ratio_1) ** 2\n",
    "    # r2 = ((m2/total_intensity) - ratio_2) ** 2\n",
    "    # r3 = ((m3/total_intensity) - ratio_3) ** 2\n",
    "    # Weighted reward with penalty\n",
    "    # reward = m1 + m2 + m3 - lambda_ * ratio_penalty\n",
    "    # return -10*(r1+r2+r3) +total_intensity\n",
    "    return r1 + r2 + r3 + r4\n",
    "    #Also Subtract some penalty at the end? Like the abs val of difference betweens actual and desired rations * big number\n",
    "\n",
    "def J(params) -> float:\n",
    "    \"\"\"Objective function, returns intensity at focal point as a function of params.\"\"\"\n",
    "    sim = make_sim(params)\n",
    "    sim_data = run_adj(sim, task_name='metalens_adj', verbose=False)\n",
    "    return measure_focal_intensity(sim_data)\n",
    "    "
   ]
  },
  {
   "cell_type": "markdown",
   "metadata": {},
   "source": [
    "We first run our function to test that it works and see the starting value."
   ]
  },
  {
   "cell_type": "code",
   "execution_count": 15,
   "metadata": {},
   "outputs": [
    {
     "data": {
      "text/plain": [
       "Array(2153.04665029, dtype=float64)"
      ]
     },
     "execution_count": 15,
     "metadata": {},
     "output_type": "execute_result"
    }
   ],
   "source": [
    "J(params0)"
   ]
  },
  {
   "cell_type": "markdown",
   "metadata": {},
   "source": [
    "Next, we use `jax` to get a function returning the objective value and its gradient, given some parameters."
   ]
  },
  {
   "cell_type": "code",
   "execution_count": 17,
   "metadata": {},
   "outputs": [],
   "source": [
    "dJ = jax.value_and_grad(J)"
   ]
  },
  {
   "cell_type": "markdown",
   "metadata": {},
   "source": [
    "And try it out."
   ]
  },
  {
   "cell_type": "code",
   "execution_count": 18,
   "metadata": {},
   "outputs": [],
   "source": [
    "val, grad = dJ(params0)"
   ]
  },
  {
   "cell_type": "code",
   "execution_count": 19,
   "metadata": {},
   "outputs": [
    {
     "name": "stdout",
     "output_type": "stream",
     "text": [
      "2153.0466502887243\n",
      "[[ 0.00000000e+00  0.00000000e+00  0.00000000e+00  0.00000000e+00\n",
      "   0.00000000e+00  0.00000000e+00  0.00000000e+00  0.00000000e+00\n",
      "   0.00000000e+00  0.00000000e+00  0.00000000e+00  0.00000000e+00\n",
      "   0.00000000e+00  0.00000000e+00  0.00000000e+00  0.00000000e+00\n",
      "   0.00000000e+00  0.00000000e+00]\n",
      " [ 0.00000000e+00  0.00000000e+00  0.00000000e+00  0.00000000e+00\n",
      "   0.00000000e+00  0.00000000e+00  0.00000000e+00  0.00000000e+00\n",
      "   0.00000000e+00  0.00000000e+00  0.00000000e+00  0.00000000e+00\n",
      "   0.00000000e+00  0.00000000e+00  0.00000000e+00  0.00000000e+00\n",
      "   0.00000000e+00  0.00000000e+00]\n",
      " [ 0.00000000e+00  0.00000000e+00  0.00000000e+00  0.00000000e+00\n",
      "   0.00000000e+00  0.00000000e+00  0.00000000e+00  0.00000000e+00\n",
      "   0.00000000e+00  0.00000000e+00  0.00000000e+00  0.00000000e+00\n",
      "   0.00000000e+00  0.00000000e+00  0.00000000e+00  0.00000000e+00\n",
      "   0.00000000e+00  0.00000000e+00]\n",
      " [ 0.00000000e+00  0.00000000e+00  0.00000000e+00  0.00000000e+00\n",
      "   0.00000000e+00  0.00000000e+00  0.00000000e+00  0.00000000e+00\n",
      "   0.00000000e+00  0.00000000e+00  0.00000000e+00  0.00000000e+00\n",
      "   0.00000000e+00  0.00000000e+00  0.00000000e+00  0.00000000e+00\n",
      "   0.00000000e+00  0.00000000e+00]\n",
      " [ 0.00000000e+00  0.00000000e+00  0.00000000e+00  0.00000000e+00\n",
      "   0.00000000e+00  0.00000000e+00  0.00000000e+00  0.00000000e+00\n",
      "   0.00000000e+00  0.00000000e+00  0.00000000e+00  0.00000000e+00\n",
      "   0.00000000e+00  0.00000000e+00  0.00000000e+00  0.00000000e+00\n",
      "   0.00000000e+00  0.00000000e+00]\n",
      " [ 0.00000000e+00  0.00000000e+00  0.00000000e+00  0.00000000e+00\n",
      "   0.00000000e+00  0.00000000e+00  0.00000000e+00  0.00000000e+00\n",
      "   0.00000000e+00  0.00000000e+00  0.00000000e+00  0.00000000e+00\n",
      "   0.00000000e+00  0.00000000e+00  0.00000000e+00  0.00000000e+00\n",
      "   0.00000000e+00  0.00000000e+00]\n",
      " [ 0.00000000e+00  0.00000000e+00  0.00000000e+00  0.00000000e+00\n",
      "   0.00000000e+00  0.00000000e+00  0.00000000e+00  0.00000000e+00\n",
      "   0.00000000e+00  0.00000000e+00  0.00000000e+00  0.00000000e+00\n",
      "   0.00000000e+00  0.00000000e+00  0.00000000e+00  0.00000000e+00\n",
      "   0.00000000e+00  0.00000000e+00]\n",
      " [ 0.00000000e+00  0.00000000e+00  0.00000000e+00  0.00000000e+00\n",
      "   0.00000000e+00  0.00000000e+00  0.00000000e+00  0.00000000e+00\n",
      "   0.00000000e+00  0.00000000e+00  0.00000000e+00  0.00000000e+00\n",
      "   0.00000000e+00  0.00000000e+00  0.00000000e+00  0.00000000e+00\n",
      "   0.00000000e+00  0.00000000e+00]\n",
      " [ 0.00000000e+00  0.00000000e+00  0.00000000e+00  0.00000000e+00\n",
      "   0.00000000e+00  0.00000000e+00  0.00000000e+00  0.00000000e+00\n",
      "   0.00000000e+00  0.00000000e+00  0.00000000e+00  0.00000000e+00\n",
      "   0.00000000e+00  0.00000000e+00  0.00000000e+00  0.00000000e+00\n",
      "   0.00000000e+00  0.00000000e+00]\n",
      " [ 0.00000000e+00  0.00000000e+00  0.00000000e+00  0.00000000e+00\n",
      "   0.00000000e+00  0.00000000e+00  0.00000000e+00  0.00000000e+00\n",
      "   0.00000000e+00  1.83176555e+03  3.69138792e+02 -4.81393775e+02\n",
      "  -3.50164080e+02  2.72626078e+02  1.90871480e+01 -1.92855878e+02\n",
      "   1.82932626e+02 -1.63764176e+01]\n",
      " [ 0.00000000e+00  0.00000000e+00  0.00000000e+00  0.00000000e+00\n",
      "   0.00000000e+00  0.00000000e+00  0.00000000e+00  0.00000000e+00\n",
      "   0.00000000e+00  1.50038144e+02 -1.31080700e+02 -3.03726012e+02\n",
      "  -3.24947652e+01  2.32985672e+02  1.26246744e+00 -1.31556375e+02\n",
      "   5.19740575e+01  2.01799071e+01]\n",
      " [ 0.00000000e+00  0.00000000e+00  0.00000000e+00  0.00000000e+00\n",
      "   0.00000000e+00  0.00000000e+00  0.00000000e+00  0.00000000e+00\n",
      "   0.00000000e+00 -2.11828131e+02 -1.80553769e+02 -1.13344994e+02\n",
      "   6.89944838e+01  9.30906301e+01 -4.31015237e+01 -4.03982740e+01\n",
      "   4.59492911e+01 -1.99756816e+01]\n",
      " [ 0.00000000e+00  0.00000000e+00  0.00000000e+00  0.00000000e+00\n",
      "   0.00000000e+00  0.00000000e+00  0.00000000e+00  0.00000000e+00\n",
      "   0.00000000e+00 -6.52381042e+01  1.75356049e+01  1.72640967e+02\n",
      "   7.99939721e+01 -1.27428189e+02 -6.88065131e+01  1.03705307e+02\n",
      "   4.41741499e+01 -1.01196712e+02]\n",
      " [ 0.00000000e+00  0.00000000e+00  0.00000000e+00  0.00000000e+00\n",
      "   0.00000000e+00  0.00000000e+00  0.00000000e+00  0.00000000e+00\n",
      "   0.00000000e+00 -1.01920836e+02 -1.72029509e+01  1.12822154e+02\n",
      "   7.15381118e+01 -7.77332263e+01 -4.32059472e+01  7.98047876e+01\n",
      "   2.00672116e+01 -9.09488240e+01]\n",
      " [ 0.00000000e+00  0.00000000e+00  0.00000000e+00  0.00000000e+00\n",
      "   0.00000000e+00  0.00000000e+00  0.00000000e+00  0.00000000e+00\n",
      "   0.00000000e+00 -1.33094067e+02 -1.63869799e+02 -1.69820208e+02\n",
      "   2.23512525e+01  1.24069418e+02 -1.26962364e+01 -6.61091169e+01\n",
      "   2.81046895e+01  1.04865654e+00]\n",
      " [ 0.00000000e+00  0.00000000e+00  0.00000000e+00  0.00000000e+00\n",
      "   0.00000000e+00  0.00000000e+00  0.00000000e+00  0.00000000e+00\n",
      "   0.00000000e+00  3.42153941e+02 -2.55288983e+01 -2.61052720e+02\n",
      "  -7.88274104e+01  1.86682564e+02  1.16134066e+00 -1.32031152e+02\n",
      "   6.81687272e+01  3.77127492e+01]\n",
      " [ 0.00000000e+00  0.00000000e+00  0.00000000e+00  0.00000000e+00\n",
      "   0.00000000e+00  0.00000000e+00  0.00000000e+00  0.00000000e+00\n",
      "   0.00000000e+00  7.90700542e+02  1.68375330e+02 -2.23421225e+02\n",
      "  -1.53226118e+02  1.35503749e+02  1.44850146e+01 -9.70956792e+01\n",
      "   7.65048889e+01  1.62124891e+00]\n",
      " [ 0.00000000e+00  0.00000000e+00  0.00000000e+00  0.00000000e+00\n",
      "   0.00000000e+00  0.00000000e+00  0.00000000e+00  0.00000000e+00\n",
      "   0.00000000e+00  5.66537976e+02  8.11845373e+01 -1.99644910e+02\n",
      "  -9.88152113e+01  1.10480717e+02  8.88629260e+00 -7.07191185e+01\n",
      "   5.44597677e+01 -9.06945388e+00]]\n"
     ]
    }
   ],
   "source": [
    "print(val)\n",
    "print(grad)"
   ]
  },
  {
   "cell_type": "markdown",
   "metadata": {},
   "source": [
    "### Normalize Objective\n",
    "\n",
    "To normalize our objective function value to something more understandable, we first run a simulation with no boxes to compute the focal point intensity in this case. Then, we construct a new objective function value that normalizes the raw intensity by this value, giving us an \"intensity enhancement\" factor. In this normalization, if our objective is given by \"x\", it means that the intensity at the focal point is \"x\" times stronger with our design than with no structures at all."
   ]
  },
  {
   "cell_type": "code",
   "execution_count": 20,
   "metadata": {},
   "outputs": [
    {
     "name": "stdout",
     "output_type": "stream",
     "text": [
      "0.6805961871831504\n"
     ]
    }
   ],
   "source": [
    "params_empty = -1e5 * np.ones_like(params0)\n",
    "J_empty = np.array(J(params_empty))\n",
    "\n",
    "def J_normalized(params):\n",
    "    return J(params) / J_empty\n",
    "\n",
    "val_normalized = val / J_empty\n",
    "\n",
    "dJ_normalized = jax.value_and_grad(J_normalized)\n",
    "\n",
    "print(val_normalized)"
   ]
  },
  {
   "cell_type": "markdown",
   "metadata": {},
   "source": [
    "## Optimization\n",
    "\n",
    "With our objective function set up, we can now run the optimization.\n",
    "\n",
    "As before, we will `optax`'s \"adam\" optimization with initial parameters of all zeros (corresponding to boxes of side length `S/2`)."
   ]
  },
  {
   "cell_type": "code",
   "execution_count": 33,
   "metadata": {},
   "outputs": [
    {
     "name": "stdout",
     "output_type": "stream",
     "text": [
      "step = 1\n",
      "\tJ = 6.8060e-01\n",
      "\tgrad_norm = 7.7098e-01\n",
      "step = 2\n",
      "\tJ = 1.1908e+00\n",
      "\tgrad_norm = 9.8504e-01\n",
      "step = 3\n",
      "\tJ = 2.3116e+00\n",
      "\tgrad_norm = 1.2550e+00\n",
      "step = 4\n",
      "\tJ = 3.3599e+00\n",
      "\tgrad_norm = 1.4613e+00\n",
      "step = 5\n",
      "\tJ = 5.2029e+00\n",
      "\tgrad_norm = 2.0572e+00\n",
      "step = 6\n",
      "\tJ = 7.7781e+00\n",
      "\tgrad_norm = 2.8881e+00\n",
      "step = 7\n",
      "\tJ = 1.0327e+01\n",
      "\tgrad_norm = 2.6148e+00\n",
      "step = 8\n",
      "\tJ = 1.2575e+01\n",
      "\tgrad_norm = 2.3740e+00\n",
      "step = 9\n",
      "\tJ = 1.3914e+01\n",
      "\tgrad_norm = 2.4644e+00\n",
      "step = 10\n",
      "\tJ = 1.4720e+01\n",
      "\tgrad_norm = 2.2930e+00\n",
      "step = 11\n",
      "\tJ = 1.5020e+01\n",
      "\tgrad_norm = 2.5546e+00\n",
      "step = 12\n",
      "\tJ = 1.5536e+01\n",
      "\tgrad_norm = 2.7942e+00\n",
      "step = 13\n",
      "\tJ = 1.6177e+01\n",
      "\tgrad_norm = 2.3524e+00\n",
      "step = 14\n",
      "\tJ = 1.6542e+01\n",
      "\tgrad_norm = 2.1804e+00\n",
      "step = 15\n",
      "\tJ = 1.6785e+01\n",
      "\tgrad_norm = 2.5656e+00\n",
      "step = 16\n",
      "\tJ = 1.7296e+01\n",
      "\tgrad_norm = 2.5395e+00\n",
      "step = 17\n",
      "\tJ = 1.7826e+01\n",
      "\tgrad_norm = 2.1589e+00\n",
      "step = 18\n",
      "\tJ = 1.8150e+01\n",
      "\tgrad_norm = 2.0479e+00\n",
      "step = 19\n",
      "\tJ = 1.8218e+01\n",
      "\tgrad_norm = 2.2508e+00\n",
      "step = 20\n",
      "\tJ = 1.8176e+01\n",
      "\tgrad_norm = 1.9363e+00\n",
      "step = 21\n",
      "\tJ = 1.7953e+01\n",
      "\tgrad_norm = 2.4096e+00\n"
     ]
    }
   ],
   "source": [
    "import optax\n",
    "\n",
    "# hyperparameters\n",
    "num_steps = 21\n",
    "learning_rate = 0.02\n",
    "\n",
    "# initialize adam optimizer with starting parameters\n",
    "params = np.array(params0)\n",
    "optimizer = optax.adam(learning_rate=learning_rate)\n",
    "opt_state = optimizer.init(params)\n",
    "\n",
    "# store history\n",
    "J_history = [val_normalized]\n",
    "params_history = [params0]\n",
    "\n",
    "for i in range(num_steps):\n",
    "\n",
    "    # compute gradient and current objective funciton value\n",
    "    value, gradient = dJ_normalized(params)\n",
    "\n",
    "    # outputs\n",
    "    print(f\"step = {i + 1}\")\n",
    "    print(f\"\\tJ = {value:.4e}\")\n",
    "    print(f\"\\tgrad_norm = {np.linalg.norm(gradient):.4e}\")    \n",
    "\n",
    "    # compute and apply updates to the optimizer based on gradient (-1 sign to maximize obj_fn)\n",
    "    updates, opt_state = optimizer.update(-gradient, opt_state, params)\n",
    "    params = optax.apply_updates(params, updates)\n",
    "\n",
    "    # save history\n",
    "    J_history.append(value)\n",
    "    params_history.append(params)    \n"
   ]
  },
  {
   "cell_type": "code",
   "execution_count": 1,
   "metadata": {},
   "outputs": [
    {
     "ename": "NameError",
     "evalue": "name 'params_history' is not defined",
     "output_type": "error",
     "traceback": [
      "\u001b[0;31m---------------------------------------------------------------------------\u001b[0m",
      "\u001b[0;31mNameError\u001b[0m                                 Traceback (most recent call last)",
      "Cell \u001b[0;32mIn[1], line 1\u001b[0m\n\u001b[0;32m----> 1\u001b[0m params_after \u001b[38;5;241m=\u001b[39m \u001b[43mparams_history\u001b[49m[\u001b[38;5;241m17\u001b[39m]\n",
      "\u001b[0;31mNameError\u001b[0m: name 'params_history' is not defined"
     ]
    }
   ],
   "source": [
    "params_after = params_history[17]"
   ]
  },
  {
   "cell_type": "code",
   "execution_count": 35,
   "metadata": {},
   "outputs": [
    {
     "data": {
      "image/png": "[encoded data removed]",
      "text/plain": [
       "<Figure size 640x480 with 1 Axes>"
      ]
     },
     "metadata": {},
     "output_type": "display_data"
    }
   ],
   "source": [
    "plt.plot(J_history)\n",
    "plt.xlabel('iterations')\n",
    "plt.ylabel('objective function (focusing intensity enhancement)')\n",
    "plt.show()"
   ]
  },
  {
   "cell_type": "code",
   "execution_count": 24,
   "metadata": {},
   "outputs": [],
   "source": [
    "sim_before = make_sim(0 * params_after, apply_symmetry=False).to_simulation()[0]\n",
    "sim_after = make_sim(params_after, apply_symmetry=False).to_simulation()[0]\n"
   ]
  },
  {
   "cell_type": "code",
   "execution_count": 25,
   "metadata": {},
   "outputs": [
    {
     "data": {
      "image/png": "[encoded data removed]",
      "text/plain": [
       "<Figure size 640x480 with 2 Axes>"
      ]
     },
     "metadata": {},
     "output_type": "display_data"
    }
   ],
   "source": [
    "f, (ax1, ax2) = plt.subplots(1, 2)\n",
    "\n",
    "sim_before.plot(z=center_z, ax=ax1)\n",
    "sim_after.plot(z=center_z, ax=ax2)\n",
    "\n",
    "plt.show()"
   ]
  },
  {
   "cell_type": "code",
   "execution_count": 26,
   "metadata": {},
   "outputs": [],
   "source": [
    "sim_after_mnt = sim_after.updated_copy(monitors=list(sim_after.monitors) + \n",
    "[\n",
    "    td.FieldMonitor(\n",
    "        size=(0, td.inf, td.inf),\n",
    "        center=(0,0,0),\n",
    "        freqs=[f0],\n",
    "        name='fields_yz',\n",
    "    ),\n",
    "    td.FieldMonitor(\n",
    "        size=(td.inf, td.inf, 0),\n",
    "        center=(0,0,focal_z),\n",
    "        freqs=[f0],\n",
    "        name='far_field',\n",
    "    ),    \n",
    "])"
   ]
  },
  {
   "cell_type": "code",
   "execution_count": 27,
   "metadata": {},
   "outputs": [
    {
     "data": {
      "text/html": [
       "<pre style=\"white-space:pre;overflow-x:auto;line-height:normal;font-family:Menlo,'DejaVu Sans Mono',consolas,'Courier New',monospace\"><span style=\"color: #7fbfbf; text-decoration-color: #7fbfbf\">17:04:43 CST </span>Created task <span style=\"color: #008000; text-decoration-color: #008000\">'meta_near_field_after'</span> with task_id                  \n",
       "<span style=\"color: #7fbfbf; text-decoration-color: #7fbfbf\">             </span><span style=\"color: #008000; text-decoration-color: #008000\">'fdve-4bb5fcad-3a23-4b7e-a129-76b0a9ba25e5'</span> and task_type <span style=\"color: #008000; text-decoration-color: #008000\">'FDTD'</span>.  \n",
       "</pre>\n"
      ],
      "text/plain": [
       "\u001b[2;36m17:04:43 CST\u001b[0m\u001b[2;36m \u001b[0mCreated task \u001b[32m'meta_near_field_after'\u001b[0m with task_id                  \n",
       "\u001b[2;36m             \u001b[0m\u001b[32m'fdve-4bb5fcad-3a23-4b7e-a129-76b0a9ba25e5'\u001b[0m and task_type \u001b[32m'FDTD'\u001b[0m.  \n"
      ]
     },
     "metadata": {},
     "output_type": "display_data"
    },
    {
     "data": {
      "text/html": [
       "<pre style=\"white-space:pre;overflow-x:auto;line-height:normal;font-family:Menlo,'DejaVu Sans Mono',consolas,'Courier New',monospace\"><span style=\"color: #7fbfbf; text-decoration-color: #7fbfbf\">             </span>View task using web UI at                                          \n",
       "<span style=\"color: #7fbfbf; text-decoration-color: #7fbfbf\">             </span><a href=\"https://tidy3d.simulation.cloud/workbench?taskId=fdve-4bb5fcad-3a23-4b7e-a129-76b0a9ba25e5\" target=\"_blank\"><span style=\"color: #008000; text-decoration-color: #008000\">'https://tidy3d.simulation.cloud/workbench?taskId=fdve-4bb5fcad-3a2</span></a>\n",
       "<span style=\"color: #7fbfbf; text-decoration-color: #7fbfbf\">             </span><a href=\"https://tidy3d.simulation.cloud/workbench?taskId=fdve-4bb5fcad-3a23-4b7e-a129-76b0a9ba25e5\" target=\"_blank\"><span style=\"color: #008000; text-decoration-color: #008000\">3-4b7e-a129-76b0a9ba25e5'</span></a>.                                         \n",
       "</pre>\n"
      ],
      "text/plain": [
       "\u001b[2;36m            \u001b[0m\u001b[2;36m \u001b[0mView task using web UI at                                          \n",
       "\u001b[2;36m             \u001b[0m\u001b]8;id=779038;https://tidy3d.simulation.cloud/workbench?taskId=fdve-4bb5fcad-3a23-4b7e-a129-76b0a9ba25e5\u001b\\\u001b[32m'https://tidy3d.simulation.cloud/workbench?\u001b[0m\u001b]8;;\u001b\\\u001b]8;id=145448;https://tidy3d.simulation.cloud/workbench?taskId=fdve-4bb5fcad-3a23-4b7e-a129-76b0a9ba25e5\u001b\\\u001b[32mtaskId\u001b[0m\u001b]8;;\u001b\\\u001b]8;id=779038;https://tidy3d.simulation.cloud/workbench?taskId=fdve-4bb5fcad-3a23-4b7e-a129-76b0a9ba25e5\u001b\\\u001b[32m=\u001b[0m\u001b]8;;\u001b\\\u001b]8;id=894811;https://tidy3d.simulation.cloud/workbench?taskId=fdve-4bb5fcad-3a23-4b7e-a129-76b0a9ba25e5\u001b\\\u001b[32mfdve\u001b[0m\u001b]8;;\u001b\\\u001b]8;id=779038;https://tidy3d.simulation.cloud/workbench?taskId=fdve-4bb5fcad-3a23-4b7e-a129-76b0a9ba25e5\u001b\\\u001b[32m-4bb5fcad-3a2\u001b[0m\u001b]8;;\u001b\\\n",
       "\u001b[2;36m             \u001b[0m\u001b]8;id=779038;https://tidy3d.simulation.cloud/workbench?taskId=fdve-4bb5fcad-3a23-4b7e-a129-76b0a9ba25e5\u001b\\\u001b[32m3-4b7e-a129-76b0a9ba25e5'\u001b[0m\u001b]8;;\u001b\\.                                         \n"
      ]
     },
     "metadata": {},
     "output_type": "display_data"
    },
    {
     "data": {
      "text/html": [
       "<pre style=\"white-space:pre;overflow-x:auto;line-height:normal;font-family:Menlo,'DejaVu Sans Mono',consolas,'Courier New',monospace\">/Users/reetsinha/Desktop/Coding/MetaSurfaces/.venv/lib/python3.13/site-packages/\n",
       "rich/live.py:231: UserWarning: install \"ipywidgets\" for Jupyter support\n",
       "  warnings.warn('install \"ipywidgets\" for Jupyter support')\n",
       "</pre>\n"
      ],
      "text/plain": [
       "/Users/reetsinha/Desktop/Coding/MetaSurfaces/.venv/lib/python3.13/site-packages/\n",
       "rich/live.py:231: UserWarning: install \"ipywidgets\" for Jupyter support\n",
       "  warnings.warn('install \"ipywidgets\" for Jupyter support')\n"
      ]
     },
     "metadata": {},
     "output_type": "display_data"
    },
    {
     "data": {
      "text/html": [
       "<pre style=\"white-space:pre;overflow-x:auto;line-height:normal;font-family:Menlo,'DejaVu Sans Mono',consolas,'Courier New',monospace\"></pre>\n"
      ],
      "text/plain": []
     },
     "metadata": {},
     "output_type": "display_data"
    },
    {
     "data": {
      "text/html": [
       "<pre style=\"white-space:pre;overflow-x:auto;line-height:normal;font-family:Menlo,'DejaVu Sans Mono',consolas,'Courier New',monospace\"><span style=\"color: #7fbfbf; text-decoration-color: #7fbfbf\">17:04:45 CST </span>status = queued                                                    \n",
       "</pre>\n"
      ],
      "text/plain": [
       "\u001b[2;36m17:04:45 CST\u001b[0m\u001b[2;36m \u001b[0mstatus = queued                                                    \n"
      ]
     },
     "metadata": {},
     "output_type": "display_data"
    },
    {
     "data": {
      "text/html": [
       "<pre style=\"white-space:pre;overflow-x:auto;line-height:normal;font-family:Menlo,'DejaVu Sans Mono',consolas,'Courier New',monospace\"><span style=\"color: #7fbfbf; text-decoration-color: #7fbfbf\">             </span>To cancel the simulation, use <span style=\"color: #008000; text-decoration-color: #008000\">'web.abort(task_id)'</span> or              \n",
       "<span style=\"color: #7fbfbf; text-decoration-color: #7fbfbf\">             </span><span style=\"color: #008000; text-decoration-color: #008000\">'web.delete(task_id)'</span> or abort/delete the task in the web UI.      \n",
       "<span style=\"color: #7fbfbf; text-decoration-color: #7fbfbf\">             </span>Terminating the Python script will not stop the job running on the \n",
       "<span style=\"color: #7fbfbf; text-decoration-color: #7fbfbf\">             </span>cloud.                                                             \n",
       "</pre>\n"
      ],
      "text/plain": [
       "\u001b[2;36m            \u001b[0m\u001b[2;36m \u001b[0mTo cancel the simulation, use \u001b[32m'web.abort\u001b[0m\u001b[32m(\u001b[0m\u001b[32mtask_id\u001b[0m\u001b[32m)\u001b[0m\u001b[32m'\u001b[0m or              \n",
       "\u001b[2;36m             \u001b[0m\u001b[32m'web.delete\u001b[0m\u001b[32m(\u001b[0m\u001b[32mtask_id\u001b[0m\u001b[32m)\u001b[0m\u001b[32m'\u001b[0m or abort/delete the task in the web UI.      \n",
       "\u001b[2;36m             \u001b[0mTerminating the Python script will not stop the job running on the \n",
       "\u001b[2;36m             \u001b[0mcloud.                                                             \n"
      ]
     },
     "metadata": {},
     "output_type": "display_data"
    },
    {
     "data": {
      "text/html": [
       "<pre style=\"white-space:pre;overflow-x:auto;line-height:normal;font-family:Menlo,'DejaVu Sans Mono',consolas,'Courier New',monospace\"><span style=\"color: #7fbfbf; text-decoration-color: #7fbfbf\">17:04:55 CST </span>status = preprocess                                                \n",
       "</pre>\n"
      ],
      "text/plain": [
       "\u001b[2;36m17:04:55 CST\u001b[0m\u001b[2;36m \u001b[0mstatus = preprocess                                                \n"
      ]
     },
     "metadata": {},
     "output_type": "display_data"
    },
    {
     "data": {
      "text/html": [
       "<pre style=\"white-space:pre;overflow-x:auto;line-height:normal;font-family:Menlo,'DejaVu Sans Mono',consolas,'Courier New',monospace\"></pre>\n"
      ],
      "text/plain": []
     },
     "metadata": {},
     "output_type": "display_data"
    },
    {
     "data": {
      "text/html": [
       "<pre style=\"white-space:pre;overflow-x:auto;line-height:normal;font-family:Menlo,'DejaVu Sans Mono',consolas,'Courier New',monospace\"><span style=\"color: #7fbfbf; text-decoration-color: #7fbfbf\">17:04:58 CST </span>Maximum FlexCredit cost: <span style=\"color: #008080; text-decoration-color: #008080; font-weight: bold\">0.025</span>. Use <span style=\"color: #008000; text-decoration-color: #008000\">'web.real_cost(task_id)'</span> to get\n",
       "<span style=\"color: #7fbfbf; text-decoration-color: #7fbfbf\">             </span>the billed FlexCredit cost after a simulation run.                 \n",
       "</pre>\n"
      ],
      "text/plain": [
       "\u001b[2;36m17:04:58 CST\u001b[0m\u001b[2;36m \u001b[0mMaximum FlexCredit cost: \u001b[1;36m0.025\u001b[0m. Use \u001b[32m'web.real_cost\u001b[0m\u001b[32m(\u001b[0m\u001b[32mtask_id\u001b[0m\u001b[32m)\u001b[0m\u001b[32m'\u001b[0m to get\n",
       "\u001b[2;36m             \u001b[0mthe billed FlexCredit cost after a simulation run.                 \n"
      ]
     },
     "metadata": {},
     "output_type": "display_data"
    },
    {
     "data": {
      "text/html": [
       "<pre style=\"white-space:pre;overflow-x:auto;line-height:normal;font-family:Menlo,'DejaVu Sans Mono',consolas,'Courier New',monospace\"><span style=\"color: #7fbfbf; text-decoration-color: #7fbfbf\">             </span>starting up solver                                                 \n",
       "</pre>\n"
      ],
      "text/plain": [
       "\u001b[2;36m            \u001b[0m\u001b[2;36m \u001b[0mstarting up solver                                                 \n"
      ]
     },
     "metadata": {},
     "output_type": "display_data"
    },
    {
     "data": {
      "text/html": [
       "<pre style=\"white-space:pre;overflow-x:auto;line-height:normal;font-family:Menlo,'DejaVu Sans Mono',consolas,'Courier New',monospace\"><span style=\"color: #7fbfbf; text-decoration-color: #7fbfbf\">             </span>running solver                                                     \n",
       "</pre>\n"
      ],
      "text/plain": [
       "\u001b[2;36m            \u001b[0m\u001b[2;36m \u001b[0mrunning solver                                                     \n"
      ]
     },
     "metadata": {},
     "output_type": "display_data"
    },
    {
     "data": {
      "text/html": [
       "<pre style=\"white-space:pre;overflow-x:auto;line-height:normal;font-family:Menlo,'DejaVu Sans Mono',consolas,'Courier New',monospace\"><span style=\"color: #7fbfbf; text-decoration-color: #7fbfbf\">17:05:04 CST </span>early shutoff detected at <span style=\"color: #008080; text-decoration-color: #008080; font-weight: bold\">32</span>%, exiting.                            \n",
       "</pre>\n"
      ],
      "text/plain": [
       "\u001b[2;36m17:05:04 CST\u001b[0m\u001b[2;36m \u001b[0mearly shutoff detected at \u001b[1;36m32\u001b[0m%, exiting.                            \n"
      ]
     },
     "metadata": {},
     "output_type": "display_data"
    },
    {
     "data": {
      "text/html": [
       "<pre style=\"white-space:pre;overflow-x:auto;line-height:normal;font-family:Menlo,'DejaVu Sans Mono',consolas,'Courier New',monospace\"></pre>\n"
      ],
      "text/plain": []
     },
     "metadata": {},
     "output_type": "display_data"
    },
    {
     "data": {
      "text/html": [
       "<pre style=\"white-space:pre;overflow-x:auto;line-height:normal;font-family:Menlo,'DejaVu Sans Mono',consolas,'Courier New',monospace\"><span style=\"color: #7fbfbf; text-decoration-color: #7fbfbf\">             </span>status = postprocess                                               \n",
       "</pre>\n"
      ],
      "text/plain": [
       "\u001b[2;36m            \u001b[0m\u001b[2;36m \u001b[0mstatus = postprocess                                               \n"
      ]
     },
     "metadata": {},
     "output_type": "display_data"
    },
    {
     "data": {
      "text/html": [
       "<pre style=\"white-space:pre;overflow-x:auto;line-height:normal;font-family:Menlo,'DejaVu Sans Mono',consolas,'Courier New',monospace\"><span style=\"color: #7fbfbf; text-decoration-color: #7fbfbf\">17:05:07 CST </span>status = success                                                   \n",
       "</pre>\n"
      ],
      "text/plain": [
       "\u001b[2;36m17:05:07 CST\u001b[0m\u001b[2;36m \u001b[0mstatus = success                                                   \n"
      ]
     },
     "metadata": {},
     "output_type": "display_data"
    },
    {
     "data": {
      "text/html": [
       "<pre style=\"white-space:pre;overflow-x:auto;line-height:normal;font-family:Menlo,'DejaVu Sans Mono',consolas,'Courier New',monospace\"></pre>\n"
      ],
      "text/plain": []
     },
     "metadata": {},
     "output_type": "display_data"
    },
    {
     "data": {
      "text/html": [
       "<pre style=\"white-space:pre;overflow-x:auto;line-height:normal;font-family:Menlo,'DejaVu Sans Mono',consolas,'Courier New',monospace\"><span style=\"color: #7fbfbf; text-decoration-color: #7fbfbf\">             </span>View simulation result at                                          \n",
       "<span style=\"color: #7fbfbf; text-decoration-color: #7fbfbf\">             </span><a href=\"https://tidy3d.simulation.cloud/workbench?taskId=fdve-4bb5fcad-3a23-4b7e-a129-76b0a9ba25e5\" target=\"_blank\"><span style=\"color: #000080; text-decoration-color: #000080; text-decoration: underline\">'https://tidy3d.simulation.cloud/workbench?taskId=fdve-4bb5fcad-3a2</span></a>\n",
       "<span style=\"color: #7fbfbf; text-decoration-color: #7fbfbf\">             </span><a href=\"https://tidy3d.simulation.cloud/workbench?taskId=fdve-4bb5fcad-3a23-4b7e-a129-76b0a9ba25e5\" target=\"_blank\"><span style=\"color: #000080; text-decoration-color: #000080; text-decoration: underline\">3-4b7e-a129-76b0a9ba25e5'</span></a><span style=\"color: #000080; text-decoration-color: #000080; text-decoration: underline\">.</span>                                         \n",
       "</pre>\n"
      ],
      "text/plain": [
       "\u001b[2;36m            \u001b[0m\u001b[2;36m \u001b[0mView simulation result at                                          \n",
       "\u001b[2;36m             \u001b[0m\u001b]8;id=906554;https://tidy3d.simulation.cloud/workbench?taskId=fdve-4bb5fcad-3a23-4b7e-a129-76b0a9ba25e5\u001b\\\u001b[4;34m'https://tidy3d.simulation.cloud/workbench?\u001b[0m\u001b]8;;\u001b\\\u001b]8;id=121390;https://tidy3d.simulation.cloud/workbench?taskId=fdve-4bb5fcad-3a23-4b7e-a129-76b0a9ba25e5\u001b\\\u001b[4;34mtaskId\u001b[0m\u001b]8;;\u001b\\\u001b]8;id=906554;https://tidy3d.simulation.cloud/workbench?taskId=fdve-4bb5fcad-3a23-4b7e-a129-76b0a9ba25e5\u001b\\\u001b[4;34m=\u001b[0m\u001b]8;;\u001b\\\u001b]8;id=231136;https://tidy3d.simulation.cloud/workbench?taskId=fdve-4bb5fcad-3a23-4b7e-a129-76b0a9ba25e5\u001b\\\u001b[4;34mfdve\u001b[0m\u001b]8;;\u001b\\\u001b]8;id=906554;https://tidy3d.simulation.cloud/workbench?taskId=fdve-4bb5fcad-3a23-4b7e-a129-76b0a9ba25e5\u001b\\\u001b[4;34m-4bb5fcad-3a2\u001b[0m\u001b]8;;\u001b\\\n",
       "\u001b[2;36m             \u001b[0m\u001b]8;id=906554;https://tidy3d.simulation.cloud/workbench?taskId=fdve-4bb5fcad-3a23-4b7e-a129-76b0a9ba25e5\u001b\\\u001b[4;34m3-4b7e-a129-76b0a9ba25e5'\u001b[0m\u001b]8;;\u001b\\\u001b[4;34m.\u001b[0m                                         \n"
      ]
     },
     "metadata": {},
     "output_type": "display_data"
    },
    {
     "data": {
      "text/html": [
       "<pre style=\"white-space:pre;overflow-x:auto;line-height:normal;font-family:Menlo,'DejaVu Sans Mono',consolas,'Courier New',monospace\"></pre>\n"
      ],
      "text/plain": []
     },
     "metadata": {},
     "output_type": "display_data"
    },
    {
     "data": {
      "text/html": [
       "<pre style=\"white-space:pre;overflow-x:auto;line-height:normal;font-family:Menlo,'DejaVu Sans Mono',consolas,'Courier New',monospace\"><span style=\"color: #7fbfbf; text-decoration-color: #7fbfbf\">17:05:09 CST </span>loading simulation from simulation_data.hdf5                       \n",
       "</pre>\n"
      ],
      "text/plain": [
       "\u001b[2;36m17:05:09 CST\u001b[0m\u001b[2;36m \u001b[0mloading simulation from simulation_data.hdf5                       \n"
      ]
     },
     "metadata": {},
     "output_type": "display_data"
    }
   ],
   "source": [
    "sim_data_after_mnt = web.run(sim_after_mnt, task_name='meta_near_field_after')"
   ]
  },
  {
   "cell_type": "code",
   "execution_count": 28,
   "metadata": {},
   "outputs": [
    {
     "data": {
      "image/png": "[encoded data removed]",
      "text/plain": [
       "<Figure size 1000x400 with 4 Axes>"
      ]
     },
     "metadata": {},
     "output_type": "display_data"
    }
   ],
   "source": [
    "fig, (ax1, ax2) = plt.subplots(1, 2, tight_layout=True, figsize=(10, 4))\n",
    "sim_data_after_mnt.plot_field('far_field', 'int', vmax=105, ax=ax1)\n",
    "sim_data_after_mnt.plot_field('fields_yz', 'int', vmax=180, ax=ax2)\n",
    "plt.show()"
   ]
  },
  {
   "cell_type": "code",
   "execution_count": 31,
   "metadata": {},
   "outputs": [
    {
     "name": "stdout",
     "output_type": "stream",
     "text": [
      "17365.979030070946\n",
      "22925.449442251214\n",
      "17347.39850890751\n"
     ]
    }
   ],
   "source": [
    "print(anp.sum(sim_data_after_mnt.get_intensity(\"classifier1\").values))\n",
    "print(anp.sum(sim_data_after_mnt.get_intensity(\"classifier2\").values))\n",
    "print(anp.sum(sim_data_after_mnt.get_intensity(\"classifier3\").values))"
   ]
  },
  {
   "cell_type": "markdown",
   "metadata": {},
   "source": [
    "## Conclusions\n",
    "\n",
    "We notice that our metalens does quite well at focusing at this high NA! For the purposes of demonstration, this is quite a small device, but the same the same principle can be applied to optimize a much larger metalens.\n",
    "\n",
    "For more case studies using the `adjoint` plugin, see the\n",
    "\n",
    "* [Gradient Checking Notebook](https://www.flexcompute.com/tidy3d/examples/notebooks/AdjointPlugin2GradientChecking/).\n",
    "\n",
    "* [Inverse Design Notebook](https://www.flexcompute.com/tidy3d/examples/notebooks/AdjointPlugin3InverseDesign/).\n",
    "\n",
    "* [Multi-Objective Gradient Notebook](https://www.flexcompute.com/tidy3d/examples/notebooks/AdjointPlugin4MultiObjective/).\n",
    "\n",
    "* [Boundary Gradients Notebook](https://www.flexcompute.com/tidy3d/examples/notebooks/AdjointPlugin5BoundaryGradients/).\n",
    "\n",
    "* [Grating Coupler Notebook](https://www.flexcompute.com/tidy3d/examples/notebooks/AdjointPlugin6GratingCoupler/).\n"
   ]
  },
  {
   "cell_type": "code",
   "execution_count": null,
   "metadata": {},
   "outputs": [],
   "source": []
  }
 ],
 "metadata": {
  "description": "This notebook demonstrates the adjoint optimization of a metalens in Tidy3D using the adjoint plugin.",
  "feature_image": "./img/adjoint_7.png",
  "kernelspec": {
   "display_name": ".venv",
   "language": "python",
   "name": "python3"
  },
  "keywords": "inverse design, metalens, design optimization, adjoint, Tidy3D, FDTD",
  "language_info": {
   "codemirror_mode": {
    "name": "ipython",
    "version": 3
   },
   "file_extension": ".py",
   "mimetype": "text/x-python",
   "name": "python",
   "nbconvert_exporter": "python",
   "pygments_lexer": "ipython3",
   "version": "3.13.0"
  },
  "nbdime-conflicts": {
   "local_diff": [
    {
     "diff": [
      {
       "diff": [
        {
         "diff": [
          {
           "key": 5,
           "op": "addrange",
           "valuelist": "9"
          },
          {
           "key": 5,
           "length": 1,
           "op": "removerange"
          }
         ],
         "key": 0,
         "op": "patch"
        }
       ],
       "key": "version",
       "op": "patch"
      }
     ],
     "key": "language_info",
     "op": "patch"
    }
   ],
   "remote_diff": [
    {
     "diff": [
      {
       "diff": [
        {
         "diff": [
          {
           "key": 5,
           "op": "addrange",
           "valuelist": "12"
          },
          {
           "key": 5,
           "length": 1,
           "op": "removerange"
          }
         ],
         "key": 0,
         "op": "patch"
        }
       ],
       "key": "version",
       "op": "patch"
      }
     ],
     "key": "language_info",
     "op": "patch"
    }
   ]
  },
  "title": "Adjoint Optimization of a Metalens in Tidy3D Using the Adjoint Plugin| Flexcompute",
  "widgets": {
   "application/vnd.jupyter.widget-state+json": {
    "state": {
     "221f7eb28bd24430bf845e5883144ef8": {
      "model_module": "@jupyter-widgets/output",
      "model_module_version": "1.0.0",
      "model_name": "OutputModel",
      "state": {
       "_dom_classes": [],
       "_model_module": "@jupyter-widgets/output",
       "_model_module_version": "1.0.0",
       "_model_name": "OutputModel",
       "_view_count": null,
       "_view_module": "@jupyter-widgets/output",
       "_view_module_version": "1.0.0",
       "_view_name": "OutputView",
       "layout": "IPY_MODEL_eaa507fb4cd549cf9c6104425d93874a",
       "msg_id": "",
       "outputs": [
        {
         "data": {
          "text/html": "<pre style=\"white-space:pre;overflow-x:auto;line-height:normal;font-family:Menlo,'DejaVu Sans Mono',consolas,'Courier New',monospace\"><span style=\"color: #800000; text-decoration-color: #800000; font-weight: bold\">↑</span> <span style=\"color: #000080; text-decoration-color: #000080; font-weight: bold\">simulation.json</span> <span style=\"color: #729c1f; text-decoration-color: #729c1f\">━━━━━━━━━━━━━━━━━━━━━━━━━━━━━━━━━━━━━━━━</span> <span style=\"color: #800080; text-decoration-color: #800080\">100.0%</span> • <span style=\"color: #008000; text-decoration-color: #008000\">629.0/629.0 kB</span> • <span style=\"color: #800000; text-decoration-color: #800000\">2.1 MB/s</span> • <span style=\"color: #008080; text-decoration-color: #008080\">0:00:00</span>\n</pre>\n",
          "text/plain": "\u001b[1;31m↑\u001b[0m \u001b[1;34msimulation.json\u001b[0m \u001b[38;2;114;156;31m━━━━━━━━━━━━━━━━━━━━━━━━━━━━━━━━━━━━━━━━\u001b[0m \u001b[35m100.0%\u001b[0m • \u001b[32m629.0/629.0 kB\u001b[0m • \u001b[31m2.1 MB/s\u001b[0m • \u001b[36m0:00:00\u001b[0m\n"
         },
         "metadata": {},
         "output_type": "display_data"
        }
       ],
       "tabbable": null,
       "tooltip": null
      }
     },
     "386aecd9a2b643d99ee58ce9a2002752": {
      "model_module": "@jupyter-widgets/output",
      "model_module_version": "1.0.0",
      "model_name": "OutputModel",
      "state": {
       "_dom_classes": [],
       "_model_module": "@jupyter-widgets/output",
       "_model_module_version": "1.0.0",
       "_model_name": "OutputModel",
       "_view_count": null,
       "_view_module": "@jupyter-widgets/output",
       "_view_module_version": "1.0.0",
       "_view_name": "OutputView",
       "layout": "IPY_MODEL_e7d67843bb994e13a5ab6ccfc3f64dd1",
       "msg_id": "",
       "outputs": [
        {
         "data": {
          "text/html": "<pre style=\"white-space:pre;overflow-x:auto;line-height:normal;font-family:Menlo,'DejaVu Sans Mono',consolas,'Courier New',monospace\"><span style=\"color: #008000; text-decoration-color: #008000; font-weight: bold\">↓</span> <span style=\"color: #000080; text-decoration-color: #000080; font-weight: bold\">monitor_data.hdf5</span> <span style=\"color: #729c1f; text-decoration-color: #729c1f\">━━━━━━━━━━━━━━━━━━━━━━━━━━━━━━━━━━━━━━━━</span> <span style=\"color: #800080; text-decoration-color: #800080\">100.0%</span> • <span style=\"color: #008000; text-decoration-color: #008000\">2.7/2.7 MB</span> • <span style=\"color: #800000; text-decoration-color: #800000\">20.9 MB/s</span> • <span style=\"color: #008080; text-decoration-color: #008080\">0:00:00</span>\n</pre>\n",
          "text/plain": "\u001b[1;32m↓\u001b[0m \u001b[1;34mmonitor_data.hdf5\u001b[0m \u001b[38;2;114;156;31m━━━━━━━━━━━━━━━━━━━━━━━━━━━━━━━━━━━━━━━━\u001b[0m \u001b[35m100.0%\u001b[0m • \u001b[32m2.7/2.7 MB\u001b[0m • \u001b[31m20.9 MB/s\u001b[0m • \u001b[36m0:00:00\u001b[0m\n"
         },
         "metadata": {},
         "output_type": "display_data"
        }
       ],
       "tabbable": null,
       "tooltip": null
      }
     },
     "3ae03f102f324415a305e6c002006df3": {
      "model_module": "@jupyter-widgets/base",
      "model_module_version": "2.0.0",
      "model_name": "LayoutModel",
      "state": {
       "_model_module": "@jupyter-widgets/base",
       "_model_module_version": "2.0.0",
       "_model_name": "LayoutModel",
       "_view_count": null,
       "_view_module": "@jupyter-widgets/base",
       "_view_module_version": "2.0.0",
       "_view_name": "LayoutView",
       "align_content": null,
       "align_items": null,
       "align_self": null,
       "border_bottom": null,
       "border_left": null,
       "border_right": null,
       "border_top": null,
       "bottom": null,
       "display": null,
       "flex": null,
       "flex_flow": null,
       "grid_area": null,
       "grid_auto_columns": null,
       "grid_auto_flow": null,
       "grid_auto_rows": null,
       "grid_column": null,
       "grid_gap": null,
       "grid_row": null,
       "grid_template_areas": null,
       "grid_template_columns": null,
       "grid_template_rows": null,
       "height": null,
       "justify_content": null,
       "justify_items": null,
       "left": null,
       "margin": null,
       "max_height": null,
       "max_width": null,
       "min_height": null,
       "min_width": null,
       "object_fit": null,
       "object_position": null,
       "order": null,
       "overflow": null,
       "padding": null,
       "right": null,
       "top": null,
       "visibility": null,
       "width": null
      }
     },
     "48f8e276d091491fa7800774be9fadb4": {
      "model_module": "@jupyter-widgets/base",
      "model_module_version": "2.0.0",
      "model_name": "LayoutModel",
      "state": {
       "_model_module": "@jupyter-widgets/base",
       "_model_module_version": "2.0.0",
       "_model_name": "LayoutModel",
       "_view_count": null,
       "_view_module": "@jupyter-widgets/base",
       "_view_module_version": "2.0.0",
       "_view_name": "LayoutView",
       "align_content": null,
       "align_items": null,
       "align_self": null,
       "border_bottom": null,
       "border_left": null,
       "border_right": null,
       "border_top": null,
       "bottom": null,
       "display": null,
       "flex": null,
       "flex_flow": null,
       "grid_area": null,
       "grid_auto_columns": null,
       "grid_auto_flow": null,
       "grid_auto_rows": null,
       "grid_column": null,
       "grid_gap": null,
       "grid_row": null,
       "grid_template_areas": null,
       "grid_template_columns": null,
       "grid_template_rows": null,
       "height": null,
       "justify_content": null,
       "justify_items": null,
       "left": null,
       "margin": null,
       "max_height": null,
       "max_width": null,
       "min_height": null,
       "min_width": null,
       "object_fit": null,
       "object_position": null,
       "order": null,
       "overflow": null,
       "padding": null,
       "right": null,
       "top": null,
       "visibility": null,
       "width": null
      }
     },
     "4ae64695120949c2a91488d9f25f552d": {
      "model_module": "@jupyter-widgets/output",
      "model_module_version": "1.0.0",
      "model_name": "OutputModel",
      "state": {
       "_dom_classes": [],
       "_model_module": "@jupyter-widgets/output",
       "_model_module_version": "1.0.0",
       "_model_name": "OutputModel",
       "_view_count": null,
       "_view_module": "@jupyter-widgets/output",
       "_view_module_version": "1.0.0",
       "_view_name": "OutputView",
       "layout": "IPY_MODEL_3ae03f102f324415a305e6c002006df3",
       "msg_id": "",
       "outputs": [
        {
         "data": {
          "text/html": "<pre style=\"white-space:pre;overflow-x:auto;line-height:normal;font-family:Menlo,'DejaVu Sans Mono',consolas,'Courier New',monospace\"><span style=\"color: #008000; text-decoration-color: #008000\">🚶 </span> <span style=\"color: #008000; text-decoration-color: #008000; font-weight: bold\">Starting 'metalens'...</span>\n</pre>\n",
          "text/plain": "\u001b[32m🚶 \u001b[0m \u001b[1;32mStarting 'metalens'...\u001b[0m\n"
         },
         "metadata": {},
         "output_type": "display_data"
        }
       ],
       "tabbable": null,
       "tooltip": null
      }
     },
     "51e705e82b59434f87e998f04fe828cd": {
      "model_module": "@jupyter-widgets/output",
      "model_module_version": "1.0.0",
      "model_name": "OutputModel",
      "state": {
       "_dom_classes": [],
       "_model_module": "@jupyter-widgets/output",
       "_model_module_version": "1.0.0",
       "_model_name": "OutputModel",
       "_view_count": null,
       "_view_module": "@jupyter-widgets/output",
       "_view_module_version": "1.0.0",
       "_view_name": "OutputView",
       "layout": "IPY_MODEL_f3bd11a740814984b1d5e9ed562ddcd8",
       "msg_id": "",
       "outputs": [
        {
         "data": {
          "text/html": "<pre style=\"white-space:pre;overflow-x:auto;line-height:normal;font-family:Menlo,'DejaVu Sans Mono',consolas,'Courier New',monospace\"><span style=\"color: #008000; text-decoration-color: #008000; font-weight: bold\">↓</span> <span style=\"color: #000080; text-decoration-color: #000080; font-weight: bold\">monitor_data.hdf5</span> <span style=\"color: #729c1f; text-decoration-color: #729c1f\">━━━━━━━━━━━━━━━━━━━━━━━━━━━━━━━━━━━━━━━━</span> <span style=\"color: #800080; text-decoration-color: #800080\">100.0%</span> • <span style=\"color: #008000; text-decoration-color: #008000\">23.5/23.5 MB</span> • <span style=\"color: #800000; text-decoration-color: #800000\">20.3 MB/s</span> • <span style=\"color: #008080; text-decoration-color: #008080\">0:00:00</span>\n</pre>\n",
          "text/plain": "\u001b[1;32m↓\u001b[0m \u001b[1;34mmonitor_data.hdf5\u001b[0m \u001b[38;2;114;156;31m━━━━━━━━━━━━━━━━━━━━━━━━━━━━━━━━━━━━━━━━\u001b[0m \u001b[35m100.0%\u001b[0m • \u001b[32m23.5/23.5 MB\u001b[0m • \u001b[31m20.3 MB/s\u001b[0m • \u001b[36m0:00:00\u001b[0m\n"
         },
         "metadata": {},
         "output_type": "display_data"
        }
       ],
       "tabbable": null,
       "tooltip": null
      }
     },
     "5582ac28333f4e6aae6b70f836193e3b": {
      "model_module": "@jupyter-widgets/base",
      "model_module_version": "2.0.0",
      "model_name": "LayoutModel",
      "state": {
       "_model_module": "@jupyter-widgets/base",
       "_model_module_version": "2.0.0",
       "_model_name": "LayoutModel",
       "_view_count": null,
       "_view_module": "@jupyter-widgets/base",
       "_view_module_version": "2.0.0",
       "_view_name": "LayoutView",
       "align_content": null,
       "align_items": null,
       "align_self": null,
       "border_bottom": null,
       "border_left": null,
       "border_right": null,
       "border_top": null,
       "bottom": null,
       "display": null,
       "flex": null,
       "flex_flow": null,
       "grid_area": null,
       "grid_auto_columns": null,
       "grid_auto_flow": null,
       "grid_auto_rows": null,
       "grid_column": null,
       "grid_gap": null,
       "grid_row": null,
       "grid_template_areas": null,
       "grid_template_columns": null,
       "grid_template_rows": null,
       "height": null,
       "justify_content": null,
       "justify_items": null,
       "left": null,
       "margin": null,
       "max_height": null,
       "max_width": null,
       "min_height": null,
       "min_width": null,
       "object_fit": null,
       "object_position": null,
       "order": null,
       "overflow": null,
       "padding": null,
       "right": null,
       "top": null,
       "visibility": null,
       "width": null
      }
     },
     "55c70db6254c4dfa8085c698d0f5405e": {
      "model_module": "@jupyter-widgets/output",
      "model_module_version": "1.0.0",
      "model_name": "OutputModel",
      "state": {
       "_dom_classes": [],
       "_model_module": "@jupyter-widgets/output",
       "_model_module_version": "1.0.0",
       "_model_name": "OutputModel",
       "_view_count": null,
       "_view_module": "@jupyter-widgets/output",
       "_view_module_version": "1.0.0",
       "_view_name": "OutputView",
       "layout": "IPY_MODEL_6447cfa42b8841b6bf46faded3b40218",
       "msg_id": "",
       "outputs": [
        {
         "data": {
          "text/html": "<pre style=\"white-space:pre;overflow-x:auto;line-height:normal;font-family:Menlo,'DejaVu Sans Mono',consolas,'Courier New',monospace\"><span style=\"color: #008000; text-decoration-color: #008000\">🏃 </span> <span style=\"color: #008000; text-decoration-color: #008000; font-weight: bold\">Starting 'metalens'...</span>\n</pre>\n",
          "text/plain": "\u001b[32m🏃 \u001b[0m \u001b[1;32mStarting 'metalens'...\u001b[0m\n"
         },
         "metadata": {},
         "output_type": "display_data"
        }
       ],
       "tabbable": null,
       "tooltip": null
      }
     },
     "59f7b4ed010849639dc31bade9b5012f": {
      "model_module": "@jupyter-widgets/base",
      "model_module_version": "2.0.0",
      "model_name": "LayoutModel",
      "state": {
       "_model_module": "@jupyter-widgets/base",
       "_model_module_version": "2.0.0",
       "_model_name": "LayoutModel",
       "_view_count": null,
       "_view_module": "@jupyter-widgets/base",
       "_view_module_version": "2.0.0",
       "_view_name": "LayoutView",
       "align_content": null,
       "align_items": null,
       "align_self": null,
       "border_bottom": null,
       "border_left": null,
       "border_right": null,
       "border_top": null,
       "bottom": null,
       "display": null,
       "flex": null,
       "flex_flow": null,
       "grid_area": null,
       "grid_auto_columns": null,
       "grid_auto_flow": null,
       "grid_auto_rows": null,
       "grid_column": null,
       "grid_gap": null,
       "grid_row": null,
       "grid_template_areas": null,
       "grid_template_columns": null,
       "grid_template_rows": null,
       "height": null,
       "justify_content": null,
       "justify_items": null,
       "left": null,
       "margin": null,
       "max_height": null,
       "max_width": null,
       "min_height": null,
       "min_width": null,
       "object_fit": null,
       "object_position": null,
       "order": null,
       "overflow": null,
       "padding": null,
       "right": null,
       "top": null,
       "visibility": null,
       "width": null
      }
     },
     "6447cfa42b8841b6bf46faded3b40218": {
      "model_module": "@jupyter-widgets/base",
      "model_module_version": "2.0.0",
      "model_name": "LayoutModel",
      "state": {
       "_model_module": "@jupyter-widgets/base",
       "_model_module_version": "2.0.0",
       "_model_name": "LayoutModel",
       "_view_count": null,
       "_view_module": "@jupyter-widgets/base",
       "_view_module_version": "2.0.0",
       "_view_name": "LayoutView",
       "align_content": null,
       "align_items": null,
       "align_self": null,
       "border_bottom": null,
       "border_left": null,
       "border_right": null,
       "border_top": null,
       "bottom": null,
       "display": null,
       "flex": null,
       "flex_flow": null,
       "grid_area": null,
       "grid_auto_columns": null,
       "grid_auto_flow": null,
       "grid_auto_rows": null,
       "grid_column": null,
       "grid_gap": null,
       "grid_row": null,
       "grid_template_areas": null,
       "grid_template_columns": null,
       "grid_template_rows": null,
       "height": null,
       "justify_content": null,
       "justify_items": null,
       "left": null,
       "margin": null,
       "max_height": null,
       "max_width": null,
       "min_height": null,
       "min_width": null,
       "object_fit": null,
       "object_position": null,
       "order": null,
       "overflow": null,
       "padding": null,
       "right": null,
       "top": null,
       "visibility": null,
       "width": null
      }
     },
     "7d0b370f20a344d9832a2fdc7a279454": {
      "model_module": "@jupyter-widgets/output",
      "model_module_version": "1.0.0",
      "model_name": "OutputModel",
      "state": {
       "_dom_classes": [],
       "_model_module": "@jupyter-widgets/output",
       "_model_module_version": "1.0.0",
       "_model_name": "OutputModel",
       "_view_count": null,
       "_view_module": "@jupyter-widgets/output",
       "_view_module_version": "1.0.0",
       "_view_name": "OutputView",
       "layout": "IPY_MODEL_a3abab06426a4faaba4e1ba1b3115535",
       "msg_id": "",
       "outputs": [
        {
         "data": {
          "text/html": "<pre style=\"white-space:pre;overflow-x:auto;line-height:normal;font-family:Menlo,'DejaVu Sans Mono',consolas,'Courier New',monospace\"><span style=\"color: #008000; text-decoration-color: #008000\">🏃 </span> <span style=\"color: #008000; text-decoration-color: #008000; font-weight: bold\">Finishing 'metalens'...</span>\n</pre>\n",
          "text/plain": "\u001b[32m🏃 \u001b[0m \u001b[1;32mFinishing 'metalens'...\u001b[0m\n"
         },
         "metadata": {},
         "output_type": "display_data"
        }
       ],
       "tabbable": null,
       "tooltip": null
      }
     },
     "7fb022224f024af3ba9902ce8f805763": {
      "model_module": "@jupyter-widgets/output",
      "model_module_version": "1.0.0",
      "model_name": "OutputModel",
      "state": {
       "_dom_classes": [],
       "_model_module": "@jupyter-widgets/output",
       "_model_module_version": "1.0.0",
       "_model_name": "OutputModel",
       "_view_count": null,
       "_view_module": "@jupyter-widgets/output",
       "_view_module_version": "1.0.0",
       "_view_name": "OutputView",
       "layout": "IPY_MODEL_48f8e276d091491fa7800774be9fadb4",
       "msg_id": "",
       "outputs": [
        {
         "data": {
          "text/html": "<pre style=\"white-space:pre;overflow-x:auto;line-height:normal;font-family:Menlo,'DejaVu Sans Mono',consolas,'Courier New',monospace\">solver progress (field decay = 5.96e-06) <span style=\"color: #729c1f; text-decoration-color: #729c1f\">━━━━━━━━━━━━━━━━━━━━━━━━━━━━━━━━━━━━━━━━</span> <span style=\"color: #800080; text-decoration-color: #800080\">100%</span> <span style=\"color: #008080; text-decoration-color: #008080\">0:00:00</span>\n</pre>\n",
          "text/plain": "solver progress (field decay = 5.96e-06) \u001b[38;2;114;156;31m━━━━━━━━━━━━━━━━━━━━━━━━━━━━━━━━━━━━━━━━\u001b[0m \u001b[35m100%\u001b[0m \u001b[36m0:00:00\u001b[0m\n"
         },
         "metadata": {},
         "output_type": "display_data"
        }
       ],
       "tabbable": null,
       "tooltip": null
      }
     },
     "a3abab06426a4faaba4e1ba1b3115535": {
      "model_module": "@jupyter-widgets/base",
      "model_module_version": "2.0.0",
      "model_name": "LayoutModel",
      "state": {
       "_model_module": "@jupyter-widgets/base",
       "_model_module_version": "2.0.0",
       "_model_name": "LayoutModel",
       "_view_count": null,
       "_view_module": "@jupyter-widgets/base",
       "_view_module_version": "2.0.0",
       "_view_name": "LayoutView",
       "align_content": null,
       "align_items": null,
       "align_self": null,
       "border_bottom": null,
       "border_left": null,
       "border_right": null,
       "border_top": null,
       "bottom": null,
       "display": null,
       "flex": null,
       "flex_flow": null,
       "grid_area": null,
       "grid_auto_columns": null,
       "grid_auto_flow": null,
       "grid_auto_rows": null,
       "grid_column": null,
       "grid_gap": null,
       "grid_row": null,
       "grid_template_areas": null,
       "grid_template_columns": null,
       "grid_template_rows": null,
       "height": null,
       "justify_content": null,
       "justify_items": null,
       "left": null,
       "margin": null,
       "max_height": null,
       "max_width": null,
       "min_height": null,
       "min_width": null,
       "object_fit": null,
       "object_position": null,
       "order": null,
       "overflow": null,
       "padding": null,
       "right": null,
       "top": null,
       "visibility": null,
       "width": null
      }
     },
     "b76c41719c2f4649b27f05ad4868062a": {
      "model_module": "@jupyter-widgets/output",
      "model_module_version": "1.0.0",
      "model_name": "OutputModel",
      "state": {
       "_dom_classes": [],
       "_model_module": "@jupyter-widgets/output",
       "_model_module_version": "1.0.0",
       "_model_name": "OutputModel",
       "_view_count": null,
       "_view_module": "@jupyter-widgets/output",
       "_view_module_version": "1.0.0",
       "_view_name": "OutputView",
       "layout": "IPY_MODEL_b7d6fa93e6664924bcc34f4f894b65a5",
       "msg_id": "",
       "outputs": [
        {
         "data": {
          "text/html": "<pre style=\"white-space:pre;overflow-x:auto;line-height:normal;font-family:Menlo,'DejaVu Sans Mono',consolas,'Courier New',monospace\"><span style=\"color: #008000; text-decoration-color: #008000\">🏃 </span> <span style=\"color: #008000; text-decoration-color: #008000; font-weight: bold\">Finishing 'metalens'...</span>\n</pre>\n",
          "text/plain": "\u001b[32m🏃 \u001b[0m \u001b[1;32mFinishing 'metalens'...\u001b[0m\n"
         },
         "metadata": {},
         "output_type": "display_data"
        }
       ],
       "tabbable": null,
       "tooltip": null
      }
     },
     "b7d6fa93e6664924bcc34f4f894b65a5": {
      "model_module": "@jupyter-widgets/base",
      "model_module_version": "2.0.0",
      "model_name": "LayoutModel",
      "state": {
       "_model_module": "@jupyter-widgets/base",
       "_model_module_version": "2.0.0",
       "_model_name": "LayoutModel",
       "_view_count": null,
       "_view_module": "@jupyter-widgets/base",
       "_view_module_version": "2.0.0",
       "_view_name": "LayoutView",
       "align_content": null,
       "align_items": null,
       "align_self": null,
       "border_bottom": null,
       "border_left": null,
       "border_right": null,
       "border_top": null,
       "bottom": null,
       "display": null,
       "flex": null,
       "flex_flow": null,
       "grid_area": null,
       "grid_auto_columns": null,
       "grid_auto_flow": null,
       "grid_auto_rows": null,
       "grid_column": null,
       "grid_gap": null,
       "grid_row": null,
       "grid_template_areas": null,
       "grid_template_columns": null,
       "grid_template_rows": null,
       "height": null,
       "justify_content": null,
       "justify_items": null,
       "left": null,
       "margin": null,
       "max_height": null,
       "max_width": null,
       "min_height": null,
       "min_width": null,
       "object_fit": null,
       "object_position": null,
       "order": null,
       "overflow": null,
       "padding": null,
       "right": null,
       "top": null,
       "visibility": null,
       "width": null
      }
     },
     "c32f795b0a72480bac2a40f2db5ce901": {
      "model_module": "@jupyter-widgets/output",
      "model_module_version": "1.0.0",
      "model_name": "OutputModel",
      "state": {
       "_dom_classes": [],
       "_model_module": "@jupyter-widgets/output",
       "_model_module_version": "1.0.0",
       "_model_name": "OutputModel",
       "_view_count": null,
       "_view_module": "@jupyter-widgets/output",
       "_view_module_version": "1.0.0",
       "_view_name": "OutputView",
       "layout": "IPY_MODEL_59f7b4ed010849639dc31bade9b5012f",
       "msg_id": "",
       "outputs": [
        {
         "data": {
          "text/html": "<pre style=\"white-space:pre;overflow-x:auto;line-height:normal;font-family:Menlo,'DejaVu Sans Mono',consolas,'Courier New',monospace\">solver progress (field decay = 7.28e-06) <span style=\"color: #729c1f; text-decoration-color: #729c1f\">━━━━━━━━━━━━━━━━━━━━━━━━━━━━━━━━━━━━━━━━</span> <span style=\"color: #800080; text-decoration-color: #800080\">100%</span> <span style=\"color: #008080; text-decoration-color: #008080\">0:00:00</span>\n</pre>\n",
          "text/plain": "solver progress (field decay = 7.28e-06) \u001b[38;2;114;156;31m━━━━━━━━━━━━━━━━━━━━━━━━━━━━━━━━━━━━━━━━\u001b[0m \u001b[35m100%\u001b[0m \u001b[36m0:00:00\u001b[0m\n"
         },
         "metadata": {},
         "output_type": "display_data"
        }
       ],
       "tabbable": null,
       "tooltip": null
      }
     },
     "e25610dd4c954cbdbd5a71585cdd78e1": {
      "model_module": "@jupyter-widgets/output",
      "model_module_version": "1.0.0",
      "model_name": "OutputModel",
      "state": {
       "_dom_classes": [],
       "_model_module": "@jupyter-widgets/output",
       "_model_module_version": "1.0.0",
       "_model_name": "OutputModel",
       "_view_count": null,
       "_view_module": "@jupyter-widgets/output",
       "_view_module_version": "1.0.0",
       "_view_name": "OutputView",
       "layout": "IPY_MODEL_5582ac28333f4e6aae6b70f836193e3b",
       "msg_id": "",
       "outputs": [
        {
         "data": {
          "text/html": "<pre style=\"white-space:pre;overflow-x:auto;line-height:normal;font-family:Menlo,'DejaVu Sans Mono',consolas,'Courier New',monospace\"><span style=\"color: #800000; text-decoration-color: #800000; font-weight: bold\">↑</span> <span style=\"color: #000080; text-decoration-color: #000080; font-weight: bold\">simulation.json</span> <span style=\"color: #729c1f; text-decoration-color: #729c1f\">━━━━━━━━━━━━━━━━━━━━━━━━━━━━━━━━━━━━━━━━</span> <span style=\"color: #800080; text-decoration-color: #800080\">100.0%</span> • <span style=\"color: #008000; text-decoration-color: #008000\">616.9/616.9 kB</span> • <span style=\"color: #800000; text-decoration-color: #800000\">1.8 MB/s</span> • <span style=\"color: #008080; text-decoration-color: #008080\">0:00:00</span>\n</pre>\n",
          "text/plain": "\u001b[1;31m↑\u001b[0m \u001b[1;34msimulation.json\u001b[0m \u001b[38;2;114;156;31m━━━━━━━━━━━━━━━━━━━━━━━━━━━━━━━━━━━━━━━━\u001b[0m \u001b[35m100.0%\u001b[0m • \u001b[32m616.9/616.9 kB\u001b[0m • \u001b[31m1.8 MB/s\u001b[0m • \u001b[36m0:00:00\u001b[0m\n"
         },
         "metadata": {},
         "output_type": "display_data"
        }
       ],
       "tabbable": null,
       "tooltip": null
      }
     },
     "e7d67843bb994e13a5ab6ccfc3f64dd1": {
      "model_module": "@jupyter-widgets/base",
      "model_module_version": "2.0.0",
      "model_name": "LayoutModel",
      "state": {
       "_model_module": "@jupyter-widgets/base",
       "_model_module_version": "2.0.0",
       "_model_name": "LayoutModel",
       "_view_count": null,
       "_view_module": "@jupyter-widgets/base",
       "_view_module_version": "2.0.0",
       "_view_name": "LayoutView",
       "align_content": null,
       "align_items": null,
       "align_self": null,
       "border_bottom": null,
       "border_left": null,
       "border_right": null,
       "border_top": null,
       "bottom": null,
       "display": null,
       "flex": null,
       "flex_flow": null,
       "grid_area": null,
       "grid_auto_columns": null,
       "grid_auto_flow": null,
       "grid_auto_rows": null,
       "grid_column": null,
       "grid_gap": null,
       "grid_row": null,
       "grid_template_areas": null,
       "grid_template_columns": null,
       "grid_template_rows": null,
       "height": null,
       "justify_content": null,
       "justify_items": null,
       "left": null,
       "margin": null,
       "max_height": null,
       "max_width": null,
       "min_height": null,
       "min_width": null,
       "object_fit": null,
       "object_position": null,
       "order": null,
       "overflow": null,
       "padding": null,
       "right": null,
       "top": null,
       "visibility": null,
       "width": null
      }
     },
     "eaa507fb4cd549cf9c6104425d93874a": {
      "model_module": "@jupyter-widgets/base",
      "model_module_version": "2.0.0",
      "model_name": "LayoutModel",
      "state": {
       "_model_module": "@jupyter-widgets/base",
       "_model_module_version": "2.0.0",
       "_model_name": "LayoutModel",
       "_view_count": null,
       "_view_module": "@jupyter-widgets/base",
       "_view_module_version": "2.0.0",
       "_view_name": "LayoutView",
       "align_content": null,
       "align_items": null,
       "align_self": null,
       "border_bottom": null,
       "border_left": null,
       "border_right": null,
       "border_top": null,
       "bottom": null,
       "display": null,
       "flex": null,
       "flex_flow": null,
       "grid_area": null,
       "grid_auto_columns": null,
       "grid_auto_flow": null,
       "grid_auto_rows": null,
       "grid_column": null,
       "grid_gap": null,
       "grid_row": null,
       "grid_template_areas": null,
       "grid_template_columns": null,
       "grid_template_rows": null,
       "height": null,
       "justify_content": null,
       "justify_items": null,
       "left": null,
       "margin": null,
       "max_height": null,
       "max_width": null,
       "min_height": null,
       "min_width": null,
       "object_fit": null,
       "object_position": null,
       "order": null,
       "overflow": null,
       "padding": null,
       "right": null,
       "top": null,
       "visibility": null,
       "width": null
      }
     },
     "f3bd11a740814984b1d5e9ed562ddcd8": {
      "model_module": "@jupyter-widgets/base",
      "model_module_version": "2.0.0",
      "model_name": "LayoutModel",
      "state": {
       "_model_module": "@jupyter-widgets/base",
       "_model_module_version": "2.0.0",
       "_model_name": "LayoutModel",
       "_view_count": null,
       "_view_module": "@jupyter-widgets/base",
       "_view_module_version": "2.0.0",
       "_view_name": "LayoutView",
       "align_content": null,
       "align_items": null,
       "align_self": null,
       "border_bottom": null,
       "border_left": null,
       "border_right": null,
       "border_top": null,
       "bottom": null,
       "display": null,
       "flex": null,
       "flex_flow": null,
       "grid_area": null,
       "grid_auto_columns": null,
       "grid_auto_flow": null,
       "grid_auto_rows": null,
       "grid_column": null,
       "grid_gap": null,
       "grid_row": null,
       "grid_template_areas": null,
       "grid_template_columns": null,
       "grid_template_rows": null,
       "height": null,
       "justify_content": null,
       "justify_items": null,
       "left": null,
       "margin": null,
       "max_height": null,
       "max_width": null,
       "min_height": null,
       "min_width": null,
       "object_fit": null,
       "object_position": null,
       "order": null,
       "overflow": null,
       "padding": null,
       "right": null,
       "top": null,
       "visibility": null,
       "width": null
      }
     }
    },
    "version_major": 2,
    "version_minor": 0
   }
  }
 },
 "nbformat": 4,
 "nbformat_minor": 4
}
